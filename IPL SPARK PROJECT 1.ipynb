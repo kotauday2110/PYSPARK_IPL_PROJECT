{
 "cells": [
  {
   "cell_type": "code",
   "execution_count": 0,
   "metadata": {
    "application/vnd.databricks.v1+cell": {
     "cellMetadata": {
      "byteLimit": 2048000,
      "rowLimit": 10000
     },
     "inputWidgets": {},
     "nuid": "bae113ec-dc23-4077-9131-956f23784288",
     "showTitle": false,
     "tableResultSettingsMap": {},
     "title": ""
    }
   },
   "outputs": [
    {
     "output_type": "stream",
     "name": "stdout",
     "output_type": "stream",
     "text": [
      "Out[36]: [FileInfo(path='dbfs:/FileStore/tables/Ball_By_Ball.csv', name='Ball_By_Ball.csv', size=25099132, modificationTime=1753848466000),\n FileInfo(path='dbfs:/FileStore/tables/BigMart_Sales.csv', name='BigMart_Sales.csv', size=869537, modificationTime=1749140546000),\n FileInfo(path='dbfs:/FileStore/tables/CSV/', name='CSV/', size=0, modificationTime=0),\n FileInfo(path='dbfs:/FileStore/tables/Match.csv', name='Match.csv', size=113358, modificationTime=1753848451000),\n FileInfo(path='dbfs:/FileStore/tables/Player.csv', name='Player.csv', size=34614, modificationTime=1753848453000),\n FileInfo(path='dbfs:/FileStore/tables/Player_match.csv', name='Player_match.csv', size=2664692, modificationTime=1753848457000),\n FileInfo(path='dbfs:/FileStore/tables/Team.csv', name='Team.csv', size=343, modificationTime=1753848458000),\n FileInfo(path='dbfs:/FileStore/tables/drivers.json', name='drivers.json', size=180812, modificationTime=1749141607000),\n FileInfo(path='dbfs:/FileStore/tables/ipl_data_till_2017-1.zip', name='ipl_data_till_2017-1.zip', size=1673531, modificationTime=1753848413000),\n FileInfo(path='dbfs:/FileStore/tables/ipl_data_till_2017.zip', name='ipl_data_till_2017.zip', size=1673531, modificationTime=1753848289000)]"
     ]
    }
   ],
   "source": [
    "dbutils.fs.ls('FileStore/tables')"
   ]
  },
  {
   "cell_type": "code",
   "execution_count": 0,
   "metadata": {
    "application/vnd.databricks.v1+cell": {
     "cellMetadata": {
      "byteLimit": 2048000,
      "rowLimit": 10000
     },
     "inputWidgets": {},
     "nuid": "603c9e38-ce7c-4eaa-9a12-671edfaa5878",
     "showTitle": false,
     "tableResultSettingsMap": {},
     "title": ""
    }
   },
   "outputs": [],
   "source": [
    "from pyspark.sql.functions import *\n",
    "from pyspark.sql.types import * \n",
    "from pyspark.sql.window import Window "
   ]
  },
  {
   "cell_type": "code",
   "execution_count": 0,
   "metadata": {
    "application/vnd.databricks.v1+cell": {
     "cellMetadata": {
      "byteLimit": 2048000,
      "rowLimit": 10000
     },
     "inputWidgets": {},
     "nuid": "8259fe3a-5503-46f6-9c63-10fb2e4dc668",
     "showTitle": false,
     "tableResultSettingsMap": {},
     "title": ""
    }
   },
   "outputs": [],
   "source": [
    "\n",
    "from pyspark.sql import SparkSession \n",
    "\n",
    "#creating  session\n",
    "spark = SparkSession.builder.appName(\"IPL Data Analysis\").getOrCreate()"
   ]
  },
  {
   "cell_type": "code",
   "execution_count": 0,
   "metadata": {
    "application/vnd.databricks.v1+cell": {
     "cellMetadata": {
      "byteLimit": 2048000,
      "rowLimit": 10000
     },
     "inputWidgets": {},
     "nuid": "7d4c8228-eacc-4fe4-a243-6224fcbd1f86",
     "showTitle": false,
     "tableResultSettingsMap": {},
     "title": ""
    }
   },
   "outputs": [],
   "source": [
    "ball_by_ball_schema = StructType([\n",
    "    StructField(\"match_id\", IntegerType(), True),\n",
    "    StructField(\"over_id\", IntegerType(), True),\n",
    "    StructField(\"ball_id\", IntegerType(), True),\n",
    "    StructField(\"innings_no\", IntegerType(), True),\n",
    "    StructField(\"team_batting\", StringType(), True),\n",
    "    StructField(\"team_bowling\", StringType(), True),\n",
    "    StructField(\"striker_batting_position\", IntegerType(), True),\n",
    "    StructField(\"extra_type\", StringType(), True),\n",
    "    StructField(\"runs_scored\", IntegerType(), True),\n",
    "    StructField(\"extra_runs\", IntegerType(), True),\n",
    "    StructField(\"wides\", IntegerType(), True),\n",
    "    StructField(\"legbyes\", IntegerType(), True),\n",
    "    StructField(\"byes\", IntegerType(), True),\n",
    "    StructField(\"noballs\", IntegerType(), True),\n",
    "    StructField(\"penalty\", IntegerType(), True),\n",
    "    StructField(\"bowler_extras\", IntegerType(), True),\n",
    "    StructField(\"out_type\", StringType(), True),\n",
    "    StructField(\"caught\", BooleanType(), True),\n",
    "    StructField(\"bowled\", BooleanType(), True),\n",
    "    StructField(\"run_out\", BooleanType(), True),\n",
    "    StructField(\"lbw\", BooleanType(), True),\n",
    "    StructField(\"retired_hurt\", BooleanType(), True),\n",
    "    StructField(\"stumped\", BooleanType(), True),\n",
    "    StructField(\"caught_and_bowled\", BooleanType(), True),\n",
    "    StructField(\"hit_wicket\", BooleanType(), True),\n",
    "    StructField(\"obstructingfeild\", BooleanType(), True),\n",
    "    StructField(\"bowler_wicket\", BooleanType(), True),\n",
    "    StructField(\"match_date\", DateType(), True),\n",
    "    StructField(\"season\", IntegerType(), True),\n",
    "    StructField(\"striker\", IntegerType(), True),\n",
    "    StructField(\"non_striker\", IntegerType(), True),\n",
    "    StructField(\"bowler\", IntegerType(), True),\n",
    "    StructField(\"player_out\", IntegerType(), True),\n",
    "    StructField(\"fielders\", IntegerType(), True),\n",
    "    StructField(\"striker_match_sk\", IntegerType(), True),\n",
    "    StructField(\"strikersk\", IntegerType(), True),\n",
    "    StructField(\"nonstriker_match_sk\", IntegerType(), True),\n",
    "    StructField(\"nonstriker_sk\", IntegerType(), True),\n",
    "    StructField(\"fielder_match_sk\", IntegerType(), True),\n",
    "    StructField(\"fielder_sk\", IntegerType(), True),\n",
    "    StructField(\"bowler_match_sk\", IntegerType(), True),\n",
    "    StructField(\"bowler_sk\", IntegerType(), True),\n",
    "    StructField(\"playerout_match_sk\", IntegerType(), True),\n",
    "    StructField(\"battingteam_sk\", IntegerType(), True),\n",
    "    StructField(\"bowlingteam_sk\", IntegerType(), True),\n",
    "    StructField(\"keeper_catch\", BooleanType(), True),\n",
    "    StructField(\"player_out_sk\", IntegerType(), True),\n",
    "    StructField(\"matchdatesk\", DateType(), True)\n",
    "])"
   ]
  },
  {
   "cell_type": "code",
   "execution_count": 0,
   "metadata": {
    "application/vnd.databricks.v1+cell": {
     "cellMetadata": {
      "byteLimit": 2048000,
      "rowLimit": 10000
     },
     "inputWidgets": {},
     "nuid": "ca4d7fb5-e9d2-4068-8cea-d6cd26cc816e",
     "showTitle": false,
     "tableResultSettingsMap": {},
     "title": ""
    }
   },
   "outputs": [],
   "source": [
    "ball_by_ball_df = spark.read.schema(ball_by_ball_schema).format(\"csv\").option(\"header\",\"true\").load('dbfs:/FileStore/tables/Ball_By_Ball.csv')"
   ]
  },
  {
   "cell_type": "code",
   "execution_count": 0,
   "metadata": {
    "application/vnd.databricks.v1+cell": {
     "cellMetadata": {
      "byteLimit": 2048000,
      "rowLimit": 10000
     },
     "inputWidgets": {},
     "nuid": "d354bb38-6dc9-44d1-874f-af15a8d19cfd",
     "showTitle": false,
     "tableResultSettingsMap": {},
     "title": ""
    }
   },
   "outputs": [
    {
     "output_type": "display_data",
     "data": {
      "text/html": [
       "<style scoped>\n",
       "  .table-result-container {\n",
       "    max-height: 300px;\n",
       "    overflow: auto;\n",
       "  }\n",
       "  table, th, td {\n",
       "    border: 1px solid black;\n",
       "    border-collapse: collapse;\n",
       "  }\n",
       "  th, td {\n",
       "    padding: 5px;\n",
       "  }\n",
       "  th {\n",
       "    text-align: left;\n",
       "  }\n",
       "</style><div class='table-result-container'><table class='table-result'><thead style='background-color: white'><tr><th>match_id</th><th>over_id</th><th>ball_id</th><th>innings_no</th><th>team_batting</th><th>team_bowling</th><th>striker_batting_position</th><th>extra_type</th><th>runs_scored</th><th>extra_runs</th><th>wides</th><th>legbyes</th><th>byes</th><th>noballs</th><th>penalty</th><th>bowler_extras</th><th>out_type</th><th>caught</th><th>bowled</th><th>run_out</th><th>lbw</th><th>retired_hurt</th><th>stumped</th><th>caught_and_bowled</th><th>hit_wicket</th><th>obstructingfeild</th><th>bowler_wicket</th><th>match_date</th><th>season</th><th>striker</th><th>non_striker</th><th>bowler</th><th>player_out</th><th>fielders</th><th>striker_match_sk</th><th>strikersk</th><th>nonstriker_match_sk</th><th>nonstriker_sk</th><th>fielder_match_sk</th><th>fielder_sk</th><th>bowler_match_sk</th><th>bowler_sk</th><th>playerout_match_sk</th><th>battingteam_sk</th><th>bowlingteam_sk</th><th>keeper_catch</th><th>player_out_sk</th><th>matchdatesk</th></tr></thead><tbody><tr><td>598028</td><td>15</td><td>6</td><td>1</td><td>5</td><td>2</td><td>6</td><td>No Extras</td><td>4</td><td>0</td><td>0</td><td>0</td><td>0</td><td>0</td><td>0</td><td>0</td><td>Not Applicable</td><td>null</td><td>null</td><td>null</td><td>null</td><td>null</td><td>null</td><td>null</td><td>null</td><td>null</td><td>null</td><td>null</td><td>2013</td><td>277</td><td>104</td><td>83</td><td>null</td><td>null</td><td>20336</td><td>276</td><td>20333</td><td>103</td><td>-1</td><td>-1</td><td>20343</td><td>82</td><td>-1</td><td>4</td><td>1</td><td>null</td><td>0</td><td>null</td></tr><tr><td>598028</td><td>14</td><td>1</td><td>1</td><td>5</td><td>2</td><td>5</td><td>No Extras</td><td>1</td><td>0</td><td>0</td><td>0</td><td>0</td><td>0</td><td>0</td><td>0</td><td>Not Applicable</td><td>null</td><td>null</td><td>null</td><td>null</td><td>null</td><td>null</td><td>null</td><td>null</td><td>null</td><td>null</td><td>null</td><td>2013</td><td>104</td><td>6</td><td>346</td><td>null</td><td>null</td><td>20333</td><td>103</td><td>20328</td><td>5</td><td>-1</td><td>-1</td><td>20348</td><td>345</td><td>-1</td><td>4</td><td>1</td><td>null</td><td>0</td><td>null</td></tr><tr><td>598028</td><td>14</td><td>2</td><td>1</td><td>5</td><td>2</td><td>3</td><td>No Extras</td><td>1</td><td>0</td><td>0</td><td>0</td><td>0</td><td>0</td><td>0</td><td>0</td><td>Not Applicable</td><td>null</td><td>null</td><td>null</td><td>null</td><td>null</td><td>null</td><td>null</td><td>null</td><td>null</td><td>null</td><td>null</td><td>2013</td><td>6</td><td>104</td><td>346</td><td>null</td><td>null</td><td>20328</td><td>5</td><td>20333</td><td>103</td><td>-1</td><td>-1</td><td>20348</td><td>345</td><td>-1</td><td>4</td><td>1</td><td>null</td><td>0</td><td>null</td></tr><tr><td>598028</td><td>14</td><td>3</td><td>1</td><td>5</td><td>2</td><td>5</td><td>No Extras</td><td>1</td><td>0</td><td>0</td><td>0</td><td>0</td><td>0</td><td>0</td><td>0</td><td>Not Applicable</td><td>null</td><td>null</td><td>null</td><td>null</td><td>null</td><td>null</td><td>null</td><td>null</td><td>null</td><td>null</td><td>null</td><td>2013</td><td>104</td><td>6</td><td>346</td><td>null</td><td>null</td><td>20333</td><td>103</td><td>20328</td><td>5</td><td>-1</td><td>-1</td><td>20348</td><td>345</td><td>-1</td><td>4</td><td>1</td><td>null</td><td>0</td><td>null</td></tr><tr><td>598028</td><td>14</td><td>4</td><td>1</td><td>5</td><td>2</td><td>3</td><td>No Extras</td><td>0</td><td>0</td><td>0</td><td>0</td><td>0</td><td>0</td><td>0</td><td>0</td><td>Not Applicable</td><td>null</td><td>null</td><td>null</td><td>null</td><td>null</td><td>null</td><td>null</td><td>null</td><td>null</td><td>null</td><td>null</td><td>2013</td><td>6</td><td>104</td><td>346</td><td>null</td><td>null</td><td>20328</td><td>5</td><td>20333</td><td>103</td><td>-1</td><td>-1</td><td>20348</td><td>345</td><td>-1</td><td>4</td><td>1</td><td>null</td><td>0</td><td>null</td></tr></tbody></table></div>"
      ]
     },
     "metadata": {
      "application/vnd.databricks.v1+output": {
       "addedWidgets": {},
       "aggData": [],
       "aggError": "",
       "aggOverflow": false,
       "aggSchema": [],
       "aggSeriesLimitReached": false,
       "aggType": "",
       "arguments": {},
       "columnCustomDisplayInfos": {},
       "data": [
        [
         598028,
         15,
         6,
         1,
         "5",
         "2",
         6,
         "No Extras",
         4,
         0,
         0,
         0,
         0,
         0,
         0,
         0,
         "Not Applicable",
         null,
         null,
         null,
         null,
         null,
         null,
         null,
         null,
         null,
         null,
         null,
         2013,
         277,
         104,
         83,
         null,
         null,
         20336,
         276,
         20333,
         103,
         -1,
         -1,
         20343,
         82,
         -1,
         4,
         1,
         null,
         0,
         null
        ],
        [
         598028,
         14,
         1,
         1,
         "5",
         "2",
         5,
         "No Extras",
         1,
         0,
         0,
         0,
         0,
         0,
         0,
         0,
         "Not Applicable",
         null,
         null,
         null,
         null,
         null,
         null,
         null,
         null,
         null,
         null,
         null,
         2013,
         104,
         6,
         346,
         null,
         null,
         20333,
         103,
         20328,
         5,
         -1,
         -1,
         20348,
         345,
         -1,
         4,
         1,
         null,
         0,
         null
        ],
        [
         598028,
         14,
         2,
         1,
         "5",
         "2",
         3,
         "No Extras",
         1,
         0,
         0,
         0,
         0,
         0,
         0,
         0,
         "Not Applicable",
         null,
         null,
         null,
         null,
         null,
         null,
         null,
         null,
         null,
         null,
         null,
         2013,
         6,
         104,
         346,
         null,
         null,
         20328,
         5,
         20333,
         103,
         -1,
         -1,
         20348,
         345,
         -1,
         4,
         1,
         null,
         0,
         null
        ],
        [
         598028,
         14,
         3,
         1,
         "5",
         "2",
         5,
         "No Extras",
         1,
         0,
         0,
         0,
         0,
         0,
         0,
         0,
         "Not Applicable",
         null,
         null,
         null,
         null,
         null,
         null,
         null,
         null,
         null,
         null,
         null,
         2013,
         104,
         6,
         346,
         null,
         null,
         20333,
         103,
         20328,
         5,
         -1,
         -1,
         20348,
         345,
         -1,
         4,
         1,
         null,
         0,
         null
        ],
        [
         598028,
         14,
         4,
         1,
         "5",
         "2",
         3,
         "No Extras",
         0,
         0,
         0,
         0,
         0,
         0,
         0,
         0,
         "Not Applicable",
         null,
         null,
         null,
         null,
         null,
         null,
         null,
         null,
         null,
         null,
         null,
         2013,
         6,
         104,
         346,
         null,
         null,
         20328,
         5,
         20333,
         103,
         -1,
         -1,
         20348,
         345,
         -1,
         4,
         1,
         null,
         0,
         null
        ]
       ],
       "datasetInfos": [],
       "dbfsResultPath": null,
       "isJsonSchema": true,
       "metadata": {},
       "overflow": false,
       "plotOptions": {
        "customPlotOptions": {},
        "displayType": "table",
        "pivotAggregation": null,
        "pivotColumns": null,
        "xColumns": null,
        "yColumns": null
       },
       "removedWidgets": [],
       "schema": [
        {
         "metadata": "{}",
         "name": "match_id",
         "type": "\"integer\""
        },
        {
         "metadata": "{}",
         "name": "over_id",
         "type": "\"integer\""
        },
        {
         "metadata": "{}",
         "name": "ball_id",
         "type": "\"integer\""
        },
        {
         "metadata": "{}",
         "name": "innings_no",
         "type": "\"integer\""
        },
        {
         "metadata": "{}",
         "name": "team_batting",
         "type": "\"string\""
        },
        {
         "metadata": "{}",
         "name": "team_bowling",
         "type": "\"string\""
        },
        {
         "metadata": "{}",
         "name": "striker_batting_position",
         "type": "\"integer\""
        },
        {
         "metadata": "{}",
         "name": "extra_type",
         "type": "\"string\""
        },
        {
         "metadata": "{}",
         "name": "runs_scored",
         "type": "\"integer\""
        },
        {
         "metadata": "{}",
         "name": "extra_runs",
         "type": "\"integer\""
        },
        {
         "metadata": "{}",
         "name": "wides",
         "type": "\"integer\""
        },
        {
         "metadata": "{}",
         "name": "legbyes",
         "type": "\"integer\""
        },
        {
         "metadata": "{}",
         "name": "byes",
         "type": "\"integer\""
        },
        {
         "metadata": "{}",
         "name": "noballs",
         "type": "\"integer\""
        },
        {
         "metadata": "{}",
         "name": "penalty",
         "type": "\"integer\""
        },
        {
         "metadata": "{}",
         "name": "bowler_extras",
         "type": "\"integer\""
        },
        {
         "metadata": "{}",
         "name": "out_type",
         "type": "\"string\""
        },
        {
         "metadata": "{}",
         "name": "caught",
         "type": "\"boolean\""
        },
        {
         "metadata": "{}",
         "name": "bowled",
         "type": "\"boolean\""
        },
        {
         "metadata": "{}",
         "name": "run_out",
         "type": "\"boolean\""
        },
        {
         "metadata": "{}",
         "name": "lbw",
         "type": "\"boolean\""
        },
        {
         "metadata": "{}",
         "name": "retired_hurt",
         "type": "\"boolean\""
        },
        {
         "metadata": "{}",
         "name": "stumped",
         "type": "\"boolean\""
        },
        {
         "metadata": "{}",
         "name": "caught_and_bowled",
         "type": "\"boolean\""
        },
        {
         "metadata": "{}",
         "name": "hit_wicket",
         "type": "\"boolean\""
        },
        {
         "metadata": "{}",
         "name": "obstructingfeild",
         "type": "\"boolean\""
        },
        {
         "metadata": "{}",
         "name": "bowler_wicket",
         "type": "\"boolean\""
        },
        {
         "metadata": "{}",
         "name": "match_date",
         "type": "\"date\""
        },
        {
         "metadata": "{}",
         "name": "season",
         "type": "\"integer\""
        },
        {
         "metadata": "{}",
         "name": "striker",
         "type": "\"integer\""
        },
        {
         "metadata": "{}",
         "name": "non_striker",
         "type": "\"integer\""
        },
        {
         "metadata": "{}",
         "name": "bowler",
         "type": "\"integer\""
        },
        {
         "metadata": "{}",
         "name": "player_out",
         "type": "\"integer\""
        },
        {
         "metadata": "{}",
         "name": "fielders",
         "type": "\"integer\""
        },
        {
         "metadata": "{}",
         "name": "striker_match_sk",
         "type": "\"integer\""
        },
        {
         "metadata": "{}",
         "name": "strikersk",
         "type": "\"integer\""
        },
        {
         "metadata": "{}",
         "name": "nonstriker_match_sk",
         "type": "\"integer\""
        },
        {
         "metadata": "{}",
         "name": "nonstriker_sk",
         "type": "\"integer\""
        },
        {
         "metadata": "{}",
         "name": "fielder_match_sk",
         "type": "\"integer\""
        },
        {
         "metadata": "{}",
         "name": "fielder_sk",
         "type": "\"integer\""
        },
        {
         "metadata": "{}",
         "name": "bowler_match_sk",
         "type": "\"integer\""
        },
        {
         "metadata": "{}",
         "name": "bowler_sk",
         "type": "\"integer\""
        },
        {
         "metadata": "{}",
         "name": "playerout_match_sk",
         "type": "\"integer\""
        },
        {
         "metadata": "{}",
         "name": "battingteam_sk",
         "type": "\"integer\""
        },
        {
         "metadata": "{}",
         "name": "bowlingteam_sk",
         "type": "\"integer\""
        },
        {
         "metadata": "{}",
         "name": "keeper_catch",
         "type": "\"boolean\""
        },
        {
         "metadata": "{}",
         "name": "player_out_sk",
         "type": "\"integer\""
        },
        {
         "metadata": "{}",
         "name": "matchdatesk",
         "type": "\"date\""
        }
       ],
       "type": "table"
      }
     },
     "output_type": "display_data"
    }
   ],
   "source": [
    "ball_by_ball_df.limit(5).display()"
   ]
  },
  {
   "cell_type": "code",
   "execution_count": 0,
   "metadata": {
    "application/vnd.databricks.v1+cell": {
     "cellMetadata": {
      "byteLimit": 2048000,
      "rowLimit": 10000
     },
     "inputWidgets": {},
     "nuid": "b6281816-6fc1-43da-9bce-4d3305f8fe8d",
     "showTitle": false,
     "tableResultSettingsMap": {},
     "title": ""
    }
   },
   "outputs": [],
   "source": [
    "match_schema = StructType([\n",
    "    StructField(\"match_sk\", IntegerType(), True),\n",
    "    StructField(\"match_id\", IntegerType(), True),\n",
    "    StructField(\"team1\", StringType(), True),\n",
    "    StructField(\"team2\", StringType(), True),\n",
    "    StructField(\"match_date\", DateType(), True),\n",
    "    StructField(\"season_year\", IntegerType(), True),\n",
    "    StructField(\"venue_name\", StringType(), True),\n",
    "    StructField(\"city_name\", StringType(), True),\n",
    "    StructField(\"country_name\", StringType(), True),\n",
    "    StructField(\"toss_winner\", StringType(), True),\n",
    "    StructField(\"match_winner\", StringType(), True),\n",
    "    StructField(\"toss_name\", StringType(), True),\n",
    "    StructField(\"win_type\", StringType(), True),\n",
    "    StructField(\"outcome_type\", StringType(), True),\n",
    "    StructField(\"manofmach\", StringType(), True),\n",
    "    StructField(\"win_margin\", IntegerType(), True),\n",
    "    StructField(\"country_id\", IntegerType(), True)\n",
    "])"
   ]
  },
  {
   "cell_type": "code",
   "execution_count": 0,
   "metadata": {
    "application/vnd.databricks.v1+cell": {
     "cellMetadata": {
      "byteLimit": 2048000,
      "rowLimit": 10000
     },
     "inputWidgets": {},
     "nuid": "c9d76ae8-d626-40e2-b540-5818d0346e73",
     "showTitle": false,
     "tableResultSettingsMap": {},
     "title": ""
    }
   },
   "outputs": [],
   "source": [
    "match_df = spark.read.schema(match_schema).format(\"csv\").option(\"header\",\"true\").load('dbfs:/FileStore/tables/Match.csv')\n"
   ]
  },
  {
   "cell_type": "code",
   "execution_count": 0,
   "metadata": {
    "application/vnd.databricks.v1+cell": {
     "cellMetadata": {
      "byteLimit": 2048000,
      "rowLimit": 10000
     },
     "inputWidgets": {},
     "nuid": "574217cd-dec8-4227-9c20-40b607fcc955",
     "showTitle": false,
     "tableResultSettingsMap": {},
     "title": ""
    }
   },
   "outputs": [
    {
     "output_type": "display_data",
     "data": {
      "text/html": [
       "<style scoped>\n",
       "  .table-result-container {\n",
       "    max-height: 300px;\n",
       "    overflow: auto;\n",
       "  }\n",
       "  table, th, td {\n",
       "    border: 1px solid black;\n",
       "    border-collapse: collapse;\n",
       "  }\n",
       "  th, td {\n",
       "    padding: 5px;\n",
       "  }\n",
       "  th {\n",
       "    text-align: left;\n",
       "  }\n",
       "</style><div class='table-result-container'><table class='table-result'><thead style='background-color: white'><tr><th>match_sk</th><th>match_id</th><th>team1</th><th>team2</th><th>match_date</th><th>season_year</th><th>venue_name</th><th>city_name</th><th>country_name</th><th>toss_winner</th><th>match_winner</th><th>toss_name</th><th>win_type</th><th>outcome_type</th><th>manofmach</th><th>win_margin</th><th>country_id</th></tr></thead><tbody><tr><td>0</td><td>335987</td><td>Royal Challengers Bangalore</td><td>Kolkata Knight Riders</td><td>null</td><td>2008</td><td>M Chinnaswamy Stadium</td><td>Bangalore</td><td>India</td><td>Royal Challengers Bangalore</td><td>Kolkata Knight Riders</td><td>field</td><td>runs</td><td>Result</td><td>BB McCullum</td><td>140</td><td>1</td></tr><tr><td>1</td><td>335988</td><td>Kings XI Punjab</td><td>Chennai Super Kings</td><td>null</td><td>2008</td><td>Punjab Cricket Association Stadium, Mohali</td><td>Chandigarh</td><td>India</td><td>Chennai Super Kings</td><td>Chennai Super Kings</td><td>bat</td><td>runs</td><td>Result</td><td>MEK Hussey</td><td>33</td><td>1</td></tr><tr><td>2</td><td>335989</td><td>Delhi Daredevils</td><td>Rajasthan Royals</td><td>null</td><td>2008</td><td>Feroz Shah Kotla</td><td>Delhi</td><td>India</td><td>Rajasthan Royals</td><td>Delhi Daredevils</td><td>bat</td><td>wickets</td><td>Result</td><td>MF Maharoof</td><td>9</td><td>1</td></tr><tr><td>3</td><td>335990</td><td>Mumbai Indians</td><td>Royal Challengers Bangalore</td><td>null</td><td>2008</td><td>Wankhede Stadium</td><td>Mumbai</td><td>India</td><td>Mumbai Indians</td><td>Royal Challengers Bangalore</td><td>bat</td><td>wickets</td><td>Result</td><td>MV Boucher</td><td>5</td><td>1</td></tr><tr><td>4</td><td>335991</td><td>Kolkata Knight Riders</td><td>Deccan Chargers</td><td>null</td><td>2008</td><td>Eden Gardens</td><td>Kolkata</td><td>India</td><td>Deccan Chargers</td><td>Kolkata Knight Riders</td><td>bat</td><td>wickets</td><td>Result</td><td>DJ Hussey</td><td>5</td><td>1</td></tr></tbody></table></div>"
      ]
     },
     "metadata": {
      "application/vnd.databricks.v1+output": {
       "addedWidgets": {},
       "aggData": [],
       "aggError": "",
       "aggOverflow": false,
       "aggSchema": [],
       "aggSeriesLimitReached": false,
       "aggType": "",
       "arguments": {},
       "columnCustomDisplayInfos": {},
       "data": [
        [
         0,
         335987,
         "Royal Challengers Bangalore",
         "Kolkata Knight Riders",
         null,
         2008,
         "M Chinnaswamy Stadium",
         "Bangalore",
         "India",
         "Royal Challengers Bangalore",
         "Kolkata Knight Riders",
         "field",
         "runs",
         "Result",
         "BB McCullum",
         140,
         1
        ],
        [
         1,
         335988,
         "Kings XI Punjab",
         "Chennai Super Kings",
         null,
         2008,
         "Punjab Cricket Association Stadium, Mohali",
         "Chandigarh",
         "India",
         "Chennai Super Kings",
         "Chennai Super Kings",
         "bat",
         "runs",
         "Result",
         "MEK Hussey",
         33,
         1
        ],
        [
         2,
         335989,
         "Delhi Daredevils",
         "Rajasthan Royals",
         null,
         2008,
         "Feroz Shah Kotla",
         "Delhi",
         "India",
         "Rajasthan Royals",
         "Delhi Daredevils",
         "bat",
         "wickets",
         "Result",
         "MF Maharoof",
         9,
         1
        ],
        [
         3,
         335990,
         "Mumbai Indians",
         "Royal Challengers Bangalore",
         null,
         2008,
         "Wankhede Stadium",
         "Mumbai",
         "India",
         "Mumbai Indians",
         "Royal Challengers Bangalore",
         "bat",
         "wickets",
         "Result",
         "MV Boucher",
         5,
         1
        ],
        [
         4,
         335991,
         "Kolkata Knight Riders",
         "Deccan Chargers",
         null,
         2008,
         "Eden Gardens",
         "Kolkata",
         "India",
         "Deccan Chargers",
         "Kolkata Knight Riders",
         "bat",
         "wickets",
         "Result",
         "DJ Hussey",
         5,
         1
        ]
       ],
       "datasetInfos": [],
       "dbfsResultPath": null,
       "isJsonSchema": true,
       "metadata": {},
       "overflow": false,
       "plotOptions": {
        "customPlotOptions": {},
        "displayType": "table",
        "pivotAggregation": null,
        "pivotColumns": null,
        "xColumns": null,
        "yColumns": null
       },
       "removedWidgets": [],
       "schema": [
        {
         "metadata": "{}",
         "name": "match_sk",
         "type": "\"integer\""
        },
        {
         "metadata": "{}",
         "name": "match_id",
         "type": "\"integer\""
        },
        {
         "metadata": "{}",
         "name": "team1",
         "type": "\"string\""
        },
        {
         "metadata": "{}",
         "name": "team2",
         "type": "\"string\""
        },
        {
         "metadata": "{}",
         "name": "match_date",
         "type": "\"date\""
        },
        {
         "metadata": "{}",
         "name": "season_year",
         "type": "\"integer\""
        },
        {
         "metadata": "{}",
         "name": "venue_name",
         "type": "\"string\""
        },
        {
         "metadata": "{}",
         "name": "city_name",
         "type": "\"string\""
        },
        {
         "metadata": "{}",
         "name": "country_name",
         "type": "\"string\""
        },
        {
         "metadata": "{}",
         "name": "toss_winner",
         "type": "\"string\""
        },
        {
         "metadata": "{}",
         "name": "match_winner",
         "type": "\"string\""
        },
        {
         "metadata": "{}",
         "name": "toss_name",
         "type": "\"string\""
        },
        {
         "metadata": "{}",
         "name": "win_type",
         "type": "\"string\""
        },
        {
         "metadata": "{}",
         "name": "outcome_type",
         "type": "\"string\""
        },
        {
         "metadata": "{}",
         "name": "manofmach",
         "type": "\"string\""
        },
        {
         "metadata": "{}",
         "name": "win_margin",
         "type": "\"integer\""
        },
        {
         "metadata": "{}",
         "name": "country_id",
         "type": "\"integer\""
        }
       ],
       "type": "table"
      }
     },
     "output_type": "display_data"
    }
   ],
   "source": [
    "match_df.limit(5).display()"
   ]
  },
  {
   "cell_type": "code",
   "execution_count": 0,
   "metadata": {
    "application/vnd.databricks.v1+cell": {
     "cellMetadata": {
      "byteLimit": 2048000,
      "rowLimit": 10000
     },
     "inputWidgets": {},
     "nuid": "cf7f0bb1-74ce-4f11-a3cd-e4d355c34afb",
     "showTitle": false,
     "tableResultSettingsMap": {},
     "title": ""
    }
   },
   "outputs": [],
   "source": [
    "\n",
    "player_schema = StructType([\n",
    "    StructField(\"player_sk\", IntegerType(), True),\n",
    "    StructField(\"player_id\", IntegerType(), True),\n",
    "    StructField(\"player_name\", StringType(), True),\n",
    "    StructField(\"dob\", DateType(), True),\n",
    "    StructField(\"batting_hand\", StringType(), True),\n",
    "    StructField(\"bowling_skill\", StringType(), True),\n",
    "    StructField(\"country_name\", StringType(), True)\n",
    "])\n",
    "\n",
    "\n",
    "     "
   ]
  },
  {
   "cell_type": "code",
   "execution_count": 0,
   "metadata": {
    "application/vnd.databricks.v1+cell": {
     "cellMetadata": {
      "byteLimit": 2048000,
      "rowLimit": 10000
     },
     "inputWidgets": {},
     "nuid": "729742d4-e9fa-44e8-aea6-c6648ffae207",
     "showTitle": false,
     "tableResultSettingsMap": {},
     "title": ""
    }
   },
   "outputs": [],
   "source": [
    "player_df = spark.read.schema(player_schema).format(\"csv\").option(\"header\",\"true\").load('dbfs:/FileStore/tables/Player.csv')\n"
   ]
  },
  {
   "cell_type": "code",
   "execution_count": 0,
   "metadata": {
    "application/vnd.databricks.v1+cell": {
     "cellMetadata": {
      "byteLimit": 2048000,
      "rowLimit": 10000
     },
     "inputWidgets": {},
     "nuid": "6666a03e-ed2f-4ec2-a99a-0458470883d9",
     "showTitle": false,
     "tableResultSettingsMap": {},
     "title": ""
    }
   },
   "outputs": [
    {
     "output_type": "display_data",
     "data": {
      "text/html": [
       "<style scoped>\n",
       "  .table-result-container {\n",
       "    max-height: 300px;\n",
       "    overflow: auto;\n",
       "  }\n",
       "  table, th, td {\n",
       "    border: 1px solid black;\n",
       "    border-collapse: collapse;\n",
       "  }\n",
       "  th, td {\n",
       "    padding: 5px;\n",
       "  }\n",
       "  th {\n",
       "    text-align: left;\n",
       "  }\n",
       "</style><div class='table-result-container'><table class='table-result'><thead style='background-color: white'><tr><th>player_sk</th><th>player_id</th><th>player_name</th><th>dob</th><th>batting_hand</th><th>bowling_skill</th><th>country_name</th></tr></thead><tbody><tr><td>0</td><td>1</td><td>SC Ganguly</td><td>null</td><td>Left-hand bat</td><td>Right-arm medium</td><td>India</td></tr><tr><td>1</td><td>2</td><td>BB McCullum</td><td>null</td><td>Right-hand bat</td><td>Right-arm medium</td><td>New Zealand</td></tr><tr><td>2</td><td>3</td><td>RT Ponting</td><td>null</td><td>Right-hand bat</td><td>Right-arm medium</td><td>Australia</td></tr><tr><td>3</td><td>4</td><td>DJ Hussey</td><td>null</td><td>Right-hand bat</td><td>Right-arm offbreak</td><td>Australia</td></tr><tr><td>4</td><td>5</td><td>Mohammad Hafeez</td><td>null</td><td>Right-hand bat</td><td>Right-arm offbreak</td><td>Pakistan</td></tr></tbody></table></div>"
      ]
     },
     "metadata": {
      "application/vnd.databricks.v1+output": {
       "addedWidgets": {},
       "aggData": [],
       "aggError": "",
       "aggOverflow": false,
       "aggSchema": [],
       "aggSeriesLimitReached": false,
       "aggType": "",
       "arguments": {},
       "columnCustomDisplayInfos": {},
       "data": [
        [
         0,
         1,
         "SC Ganguly",
         null,
         "Left-hand bat",
         "Right-arm medium",
         "India"
        ],
        [
         1,
         2,
         "BB McCullum",
         null,
         "Right-hand bat",
         "Right-arm medium",
         "New Zealand"
        ],
        [
         2,
         3,
         "RT Ponting",
         null,
         "Right-hand bat",
         "Right-arm medium",
         "Australia"
        ],
        [
         3,
         4,
         "DJ Hussey",
         null,
         "Right-hand bat",
         "Right-arm offbreak",
         "Australia"
        ],
        [
         4,
         5,
         "Mohammad Hafeez",
         null,
         "Right-hand bat",
         "Right-arm offbreak",
         "Pakistan"
        ]
       ],
       "datasetInfos": [],
       "dbfsResultPath": null,
       "isJsonSchema": true,
       "metadata": {},
       "overflow": false,
       "plotOptions": {
        "customPlotOptions": {},
        "displayType": "table",
        "pivotAggregation": null,
        "pivotColumns": null,
        "xColumns": null,
        "yColumns": null
       },
       "removedWidgets": [],
       "schema": [
        {
         "metadata": "{}",
         "name": "player_sk",
         "type": "\"integer\""
        },
        {
         "metadata": "{}",
         "name": "player_id",
         "type": "\"integer\""
        },
        {
         "metadata": "{}",
         "name": "player_name",
         "type": "\"string\""
        },
        {
         "metadata": "{}",
         "name": "dob",
         "type": "\"date\""
        },
        {
         "metadata": "{}",
         "name": "batting_hand",
         "type": "\"string\""
        },
        {
         "metadata": "{}",
         "name": "bowling_skill",
         "type": "\"string\""
        },
        {
         "metadata": "{}",
         "name": "country_name",
         "type": "\"string\""
        }
       ],
       "type": "table"
      }
     },
     "output_type": "display_data"
    }
   ],
   "source": [
    "player_df.limit(5).display()"
   ]
  },
  {
   "cell_type": "code",
   "execution_count": 0,
   "metadata": {
    "application/vnd.databricks.v1+cell": {
     "cellMetadata": {
      "byteLimit": 2048000,
      "rowLimit": 10000
     },
     "inputWidgets": {},
     "nuid": "9c331ce2-5553-4778-80e2-23d7b58d3664",
     "showTitle": false,
     "tableResultSettingsMap": {},
     "title": ""
    }
   },
   "outputs": [],
   "source": [
    "player_match_schema = StructType([\n",
    "    StructField(\"player_match_sk\", IntegerType(), True),\n",
    "    StructField(\"playermatch_key\", DecimalType(), True),\n",
    "    StructField(\"match_id\", IntegerType(), True),\n",
    "    StructField(\"player_id\", IntegerType(), True),\n",
    "    StructField(\"player_name\", StringType(), True),\n",
    "    StructField(\"dob\", DateType(), True),\n",
    "    StructField(\"batting_hand\", StringType(), True),\n",
    "    StructField(\"bowling_skill\", StringType(), True),\n",
    "    StructField(\"country_name\", StringType(), True),\n",
    "    StructField(\"role_desc\", StringType(), True),\n",
    "    StructField(\"player_team\", StringType(), True),\n",
    "    StructField(\"opposit_team\", StringType(), True),\n",
    "    StructField(\"season_year\", IntegerType(), True),\n",
    "    StructField(\"is_manofthematch\", BooleanType(), True),\n",
    "    StructField(\"age_as_on_match\", IntegerType(), True),\n",
    "    StructField(\"isplayers_team_won\", BooleanType(), True),\n",
    "    StructField(\"batting_status\", StringType(), True),\n",
    "    StructField(\"bowling_status\", StringType(), True),\n",
    "    StructField(\"player_captain\", StringType(), True),\n",
    "    StructField(\"opposit_captain\", StringType(), True),\n",
    "    StructField(\"player_keeper\", StringType(), True),\n",
    "    StructField(\"opposit_keeper\", StringType(), True)\n",
    "])\n",
    "\n"
   ]
  },
  {
   "cell_type": "code",
   "execution_count": 0,
   "metadata": {
    "application/vnd.databricks.v1+cell": {
     "cellMetadata": {
      "byteLimit": 2048000,
      "rowLimit": 10000
     },
     "inputWidgets": {},
     "nuid": "de6533b4-f78b-4f38-8bb5-710e6cec8785",
     "showTitle": false,
     "tableResultSettingsMap": {},
     "title": ""
    }
   },
   "outputs": [],
   "source": [
    "player_match_df = spark.read.schema(player_match_schema).format(\"csv\").option(\"header\",\"true\").load('dbfs:/FileStore/tables/Player_match.csv')"
   ]
  },
  {
   "cell_type": "code",
   "execution_count": 0,
   "metadata": {
    "application/vnd.databricks.v1+cell": {
     "cellMetadata": {
      "byteLimit": 2048000,
      "rowLimit": 10000
     },
     "inputWidgets": {},
     "nuid": "47b29f09-36a0-41f0-85d9-a04ed6103101",
     "showTitle": false,
     "tableResultSettingsMap": {},
     "title": ""
    }
   },
   "outputs": [
    {
     "output_type": "display_data",
     "data": {
      "text/html": [
       "<style scoped>\n",
       "  .table-result-container {\n",
       "    max-height: 300px;\n",
       "    overflow: auto;\n",
       "  }\n",
       "  table, th, td {\n",
       "    border: 1px solid black;\n",
       "    border-collapse: collapse;\n",
       "  }\n",
       "  th, td {\n",
       "    padding: 5px;\n",
       "  }\n",
       "  th {\n",
       "    text-align: left;\n",
       "  }\n",
       "</style><div class='table-result-container'><table class='table-result'><thead style='background-color: white'><tr><th>player_match_sk</th><th>playermatch_key</th><th>match_id</th><th>player_id</th><th>player_name</th><th>dob</th><th>batting_hand</th><th>bowling_skill</th><th>country_name</th><th>role_desc</th><th>player_team</th><th>opposit_team</th><th>season_year</th><th>is_manofthematch</th><th>age_as_on_match</th><th>isplayers_team_won</th><th>batting_status</th><th>bowling_status</th><th>player_captain</th><th>opposit_captain</th><th>player_keeper</th><th>opposit_keeper</th></tr></thead><tbody><tr><td>-1</td><td>-1</td><td>-1</td><td>-1</td><td>N/A</td><td>null</td><td>null</td><td>null</td><td>null</td><td>null</td><td>null</td><td>null</td><td>null</td><td>null</td><td>null</td><td>null</td><td>null</td><td>null</td><td>null</td><td>null</td><td>null</td><td>null</td></tr><tr><td>12694</td><td>null</td><td>335987</td><td>6</td><td>R Dravid</td><td>null</td><td>Right-hand bat</td><td>Right-arm offbreak</td><td>India</td><td>Captain</td><td>Royal Challengers Bangalore</td><td>Kolkata Knight Riders</td><td>2008</td><td>null</td><td>35</td><td>null</td><td>null</td><td>null</td><td>R Dravid</td><td>SC Ganguly</td><td>MV Boucher</td><td>WP Saha</td></tr><tr><td>12695</td><td>null</td><td>335987</td><td>7</td><td>W Jaffer</td><td>null</td><td>Right-hand bat</td><td>Right-arm offbreak</td><td>India</td><td>Player</td><td>Royal Challengers Bangalore</td><td>Kolkata Knight Riders</td><td>2008</td><td>null</td><td>30</td><td>null</td><td>null</td><td>null</td><td>R Dravid</td><td>SC Ganguly</td><td>MV Boucher</td><td>WP Saha</td></tr><tr><td>12696</td><td>null</td><td>335987</td><td>8</td><td>V Kohli</td><td>null</td><td>Right-hand bat</td><td>Right-arm medium</td><td>India</td><td>Player</td><td>Royal Challengers Bangalore</td><td>Kolkata Knight Riders</td><td>2008</td><td>null</td><td>20</td><td>null</td><td>null</td><td>null</td><td>R Dravid</td><td>SC Ganguly</td><td>MV Boucher</td><td>WP Saha</td></tr><tr><td>12697</td><td>null</td><td>335987</td><td>9</td><td>JH Kallis</td><td>null</td><td>Right-hand bat</td><td>Right-arm fast-medium</td><td>South Africa</td><td>Player</td><td>Royal Challengers Bangalore</td><td>Kolkata Knight Riders</td><td>2008</td><td>null</td><td>33</td><td>null</td><td>null</td><td>null</td><td>R Dravid</td><td>SC Ganguly</td><td>MV Boucher</td><td>WP Saha</td></tr></tbody></table></div>"
      ]
     },
     "metadata": {
      "application/vnd.databricks.v1+output": {
       "addedWidgets": {},
       "aggData": [],
       "aggError": "",
       "aggOverflow": false,
       "aggSchema": [],
       "aggSeriesLimitReached": false,
       "aggType": "",
       "arguments": {},
       "columnCustomDisplayInfos": {},
       "data": [
        [
         -1,
         "-1",
         -1,
         -1,
         "N/A",
         null,
         null,
         null,
         null,
         null,
         null,
         null,
         null,
         null,
         null,
         null,
         null,
         null,
         null,
         null,
         null,
         null
        ],
        [
         12694,
         null,
         335987,
         6,
         "R Dravid",
         null,
         "Right-hand bat",
         "Right-arm offbreak",
         "India",
         "Captain",
         "Royal Challengers Bangalore",
         "Kolkata Knight Riders",
         2008,
         null,
         35,
         null,
         null,
         null,
         "R Dravid",
         "SC Ganguly",
         "MV Boucher",
         "WP Saha"
        ],
        [
         12695,
         null,
         335987,
         7,
         "W Jaffer",
         null,
         "Right-hand bat",
         "Right-arm offbreak",
         "India",
         "Player",
         "Royal Challengers Bangalore",
         "Kolkata Knight Riders",
         2008,
         null,
         30,
         null,
         null,
         null,
         "R Dravid",
         "SC Ganguly",
         "MV Boucher",
         "WP Saha"
        ],
        [
         12696,
         null,
         335987,
         8,
         "V Kohli",
         null,
         "Right-hand bat",
         "Right-arm medium",
         "India",
         "Player",
         "Royal Challengers Bangalore",
         "Kolkata Knight Riders",
         2008,
         null,
         20,
         null,
         null,
         null,
         "R Dravid",
         "SC Ganguly",
         "MV Boucher",
         "WP Saha"
        ],
        [
         12697,
         null,
         335987,
         9,
         "JH Kallis",
         null,
         "Right-hand bat",
         "Right-arm fast-medium",
         "South Africa",
         "Player",
         "Royal Challengers Bangalore",
         "Kolkata Knight Riders",
         2008,
         null,
         33,
         null,
         null,
         null,
         "R Dravid",
         "SC Ganguly",
         "MV Boucher",
         "WP Saha"
        ]
       ],
       "datasetInfos": [],
       "dbfsResultPath": null,
       "isJsonSchema": true,
       "metadata": {},
       "overflow": false,
       "plotOptions": {
        "customPlotOptions": {},
        "displayType": "table",
        "pivotAggregation": null,
        "pivotColumns": null,
        "xColumns": null,
        "yColumns": null
       },
       "removedWidgets": [],
       "schema": [
        {
         "metadata": "{}",
         "name": "player_match_sk",
         "type": "\"integer\""
        },
        {
         "metadata": "{}",
         "name": "playermatch_key",
         "type": "\"decimal(10,0)\""
        },
        {
         "metadata": "{}",
         "name": "match_id",
         "type": "\"integer\""
        },
        {
         "metadata": "{}",
         "name": "player_id",
         "type": "\"integer\""
        },
        {
         "metadata": "{}",
         "name": "player_name",
         "type": "\"string\""
        },
        {
         "metadata": "{}",
         "name": "dob",
         "type": "\"date\""
        },
        {
         "metadata": "{}",
         "name": "batting_hand",
         "type": "\"string\""
        },
        {
         "metadata": "{}",
         "name": "bowling_skill",
         "type": "\"string\""
        },
        {
         "metadata": "{}",
         "name": "country_name",
         "type": "\"string\""
        },
        {
         "metadata": "{}",
         "name": "role_desc",
         "type": "\"string\""
        },
        {
         "metadata": "{}",
         "name": "player_team",
         "type": "\"string\""
        },
        {
         "metadata": "{}",
         "name": "opposit_team",
         "type": "\"string\""
        },
        {
         "metadata": "{}",
         "name": "season_year",
         "type": "\"integer\""
        },
        {
         "metadata": "{}",
         "name": "is_manofthematch",
         "type": "\"boolean\""
        },
        {
         "metadata": "{}",
         "name": "age_as_on_match",
         "type": "\"integer\""
        },
        {
         "metadata": "{}",
         "name": "isplayers_team_won",
         "type": "\"boolean\""
        },
        {
         "metadata": "{}",
         "name": "batting_status",
         "type": "\"string\""
        },
        {
         "metadata": "{}",
         "name": "bowling_status",
         "type": "\"string\""
        },
        {
         "metadata": "{}",
         "name": "player_captain",
         "type": "\"string\""
        },
        {
         "metadata": "{}",
         "name": "opposit_captain",
         "type": "\"string\""
        },
        {
         "metadata": "{}",
         "name": "player_keeper",
         "type": "\"string\""
        },
        {
         "metadata": "{}",
         "name": "opposit_keeper",
         "type": "\"string\""
        }
       ],
       "type": "table"
      }
     },
     "output_type": "display_data"
    }
   ],
   "source": [
    "player_match_df.limit(5).display()"
   ]
  },
  {
   "cell_type": "code",
   "execution_count": 0,
   "metadata": {
    "application/vnd.databricks.v1+cell": {
     "cellMetadata": {
      "byteLimit": 2048000,
      "rowLimit": 10000
     },
     "inputWidgets": {},
     "nuid": "f92662a4-ea68-4ea4-9fb6-895118b4da65",
     "showTitle": false,
     "tableResultSettingsMap": {},
     "title": ""
    }
   },
   "outputs": [],
   "source": [
    "team_schema = StructType([\n",
    "    StructField(\"team_sk\", IntegerType(), True),\n",
    "    StructField(\"team_id\", IntegerType(), True),\n",
    "    StructField(\"team_name\", StringType(), True)\n",
    "])\n"
   ]
  },
  {
   "cell_type": "code",
   "execution_count": 0,
   "metadata": {
    "application/vnd.databricks.v1+cell": {
     "cellMetadata": {
      "byteLimit": 2048000,
      "rowLimit": 10000
     },
     "inputWidgets": {},
     "nuid": "dfbb4286-240c-4ec4-a760-a8e68be98834",
     "showTitle": false,
     "tableResultSettingsMap": {},
     "title": ""
    }
   },
   "outputs": [],
   "source": [
    "\n",
    "team_df = spark.read.schema(team_schema).format(\"csv\").option(\"header\",\"true\").load('dbfs:/FileStore/tables/Team.csv')\n",
    "     "
   ]
  },
  {
   "cell_type": "markdown",
   "metadata": {
    "application/vnd.databricks.v1+cell": {
     "cellMetadata": {
      "byteLimit": 2048000,
      "rowLimit": 10000
     },
     "inputWidgets": {},
     "nuid": "dc599cda-62c9-43d2-8e82-f97048785bfa",
     "showTitle": false,
     "tableResultSettingsMap": {},
     "title": ""
    }
   },
   "source": [
    "**TRANSFORMATIONS**\n"
   ]
  },
  {
   "cell_type": "markdown",
   "metadata": {
    "application/vnd.databricks.v1+cell": {
     "cellMetadata": {
      "byteLimit": 2048000,
      "rowLimit": 10000
     },
     "inputWidgets": {},
     "nuid": "47e47d14-91f7-4b9f-b70d-aed0b7b0c46c",
     "showTitle": false,
     "tableResultSettingsMap": {},
     "title": ""
    }
   },
   "source": [
    "\n",
    "include only valid deliveries (excluding extras like wides and no balls for specific analyses"
   ]
  },
  {
   "cell_type": "code",
   "execution_count": 0,
   "metadata": {
    "application/vnd.databricks.v1+cell": {
     "cellMetadata": {
      "byteLimit": 2048000,
      "rowLimit": 10000
     },
     "inputWidgets": {},
     "nuid": "a5c50b9a-51af-41d2-946a-ce485aa76abf",
     "showTitle": false,
     "tableResultSettingsMap": {},
     "title": ""
    }
   },
   "outputs": [
    {
     "output_type": "display_data",
     "data": {
      "text/html": [
       "<style scoped>\n",
       "  .table-result-container {\n",
       "    max-height: 300px;\n",
       "    overflow: auto;\n",
       "  }\n",
       "  table, th, td {\n",
       "    border: 1px solid black;\n",
       "    border-collapse: collapse;\n",
       "  }\n",
       "  th, td {\n",
       "    padding: 5px;\n",
       "  }\n",
       "  th {\n",
       "    text-align: left;\n",
       "  }\n",
       "</style><div class='table-result-container'><table class='table-result'><thead style='background-color: white'><tr><th>match_id</th><th>over_id</th><th>ball_id</th><th>innings_no</th><th>team_batting</th><th>team_bowling</th><th>striker_batting_position</th><th>extra_type</th><th>runs_scored</th><th>extra_runs</th><th>wides</th><th>legbyes</th><th>byes</th><th>noballs</th><th>penalty</th><th>bowler_extras</th><th>out_type</th><th>caught</th><th>bowled</th><th>run_out</th><th>lbw</th><th>retired_hurt</th><th>stumped</th><th>caught_and_bowled</th><th>hit_wicket</th><th>obstructingfeild</th><th>bowler_wicket</th><th>match_date</th><th>season</th><th>striker</th><th>non_striker</th><th>bowler</th><th>player_out</th><th>fielders</th><th>striker_match_sk</th><th>strikersk</th><th>nonstriker_match_sk</th><th>nonstriker_sk</th><th>fielder_match_sk</th><th>fielder_sk</th><th>bowler_match_sk</th><th>bowler_sk</th><th>playerout_match_sk</th><th>battingteam_sk</th><th>bowlingteam_sk</th><th>keeper_catch</th><th>player_out_sk</th><th>matchdatesk</th></tr></thead><tbody><tr><td>598028</td><td>15</td><td>6</td><td>1</td><td>5</td><td>2</td><td>6</td><td>No Extras</td><td>4</td><td>0</td><td>0</td><td>0</td><td>0</td><td>0</td><td>0</td><td>0</td><td>Not Applicable</td><td>null</td><td>null</td><td>null</td><td>null</td><td>null</td><td>null</td><td>null</td><td>null</td><td>null</td><td>null</td><td>null</td><td>2013</td><td>277</td><td>104</td><td>83</td><td>null</td><td>null</td><td>20336</td><td>276</td><td>20333</td><td>103</td><td>-1</td><td>-1</td><td>20343</td><td>82</td><td>-1</td><td>4</td><td>1</td><td>null</td><td>0</td><td>null</td></tr><tr><td>598028</td><td>14</td><td>1</td><td>1</td><td>5</td><td>2</td><td>5</td><td>No Extras</td><td>1</td><td>0</td><td>0</td><td>0</td><td>0</td><td>0</td><td>0</td><td>0</td><td>Not Applicable</td><td>null</td><td>null</td><td>null</td><td>null</td><td>null</td><td>null</td><td>null</td><td>null</td><td>null</td><td>null</td><td>null</td><td>2013</td><td>104</td><td>6</td><td>346</td><td>null</td><td>null</td><td>20333</td><td>103</td><td>20328</td><td>5</td><td>-1</td><td>-1</td><td>20348</td><td>345</td><td>-1</td><td>4</td><td>1</td><td>null</td><td>0</td><td>null</td></tr></tbody></table></div>"
      ]
     },
     "metadata": {
      "application/vnd.databricks.v1+output": {
       "addedWidgets": {},
       "aggData": [],
       "aggError": "",
       "aggOverflow": false,
       "aggSchema": [],
       "aggSeriesLimitReached": false,
       "aggType": "",
       "arguments": {},
       "columnCustomDisplayInfos": {},
       "data": [
        [
         598028,
         15,
         6,
         1,
         "5",
         "2",
         6,
         "No Extras",
         4,
         0,
         0,
         0,
         0,
         0,
         0,
         0,
         "Not Applicable",
         null,
         null,
         null,
         null,
         null,
         null,
         null,
         null,
         null,
         null,
         null,
         2013,
         277,
         104,
         83,
         null,
         null,
         20336,
         276,
         20333,
         103,
         -1,
         -1,
         20343,
         82,
         -1,
         4,
         1,
         null,
         0,
         null
        ],
        [
         598028,
         14,
         1,
         1,
         "5",
         "2",
         5,
         "No Extras",
         1,
         0,
         0,
         0,
         0,
         0,
         0,
         0,
         "Not Applicable",
         null,
         null,
         null,
         null,
         null,
         null,
         null,
         null,
         null,
         null,
         null,
         2013,
         104,
         6,
         346,
         null,
         null,
         20333,
         103,
         20328,
         5,
         -1,
         -1,
         20348,
         345,
         -1,
         4,
         1,
         null,
         0,
         null
        ]
       ],
       "datasetInfos": [],
       "dbfsResultPath": null,
       "isJsonSchema": true,
       "metadata": {},
       "overflow": false,
       "plotOptions": {
        "customPlotOptions": {},
        "displayType": "table",
        "pivotAggregation": null,
        "pivotColumns": null,
        "xColumns": null,
        "yColumns": null
       },
       "removedWidgets": [],
       "schema": [
        {
         "metadata": "{}",
         "name": "match_id",
         "type": "\"integer\""
        },
        {
         "metadata": "{}",
         "name": "over_id",
         "type": "\"integer\""
        },
        {
         "metadata": "{}",
         "name": "ball_id",
         "type": "\"integer\""
        },
        {
         "metadata": "{}",
         "name": "innings_no",
         "type": "\"integer\""
        },
        {
         "metadata": "{}",
         "name": "team_batting",
         "type": "\"string\""
        },
        {
         "metadata": "{}",
         "name": "team_bowling",
         "type": "\"string\""
        },
        {
         "metadata": "{}",
         "name": "striker_batting_position",
         "type": "\"integer\""
        },
        {
         "metadata": "{}",
         "name": "extra_type",
         "type": "\"string\""
        },
        {
         "metadata": "{}",
         "name": "runs_scored",
         "type": "\"integer\""
        },
        {
         "metadata": "{}",
         "name": "extra_runs",
         "type": "\"integer\""
        },
        {
         "metadata": "{}",
         "name": "wides",
         "type": "\"integer\""
        },
        {
         "metadata": "{}",
         "name": "legbyes",
         "type": "\"integer\""
        },
        {
         "metadata": "{}",
         "name": "byes",
         "type": "\"integer\""
        },
        {
         "metadata": "{}",
         "name": "noballs",
         "type": "\"integer\""
        },
        {
         "metadata": "{}",
         "name": "penalty",
         "type": "\"integer\""
        },
        {
         "metadata": "{}",
         "name": "bowler_extras",
         "type": "\"integer\""
        },
        {
         "metadata": "{}",
         "name": "out_type",
         "type": "\"string\""
        },
        {
         "metadata": "{}",
         "name": "caught",
         "type": "\"boolean\""
        },
        {
         "metadata": "{}",
         "name": "bowled",
         "type": "\"boolean\""
        },
        {
         "metadata": "{}",
         "name": "run_out",
         "type": "\"boolean\""
        },
        {
         "metadata": "{}",
         "name": "lbw",
         "type": "\"boolean\""
        },
        {
         "metadata": "{}",
         "name": "retired_hurt",
         "type": "\"boolean\""
        },
        {
         "metadata": "{}",
         "name": "stumped",
         "type": "\"boolean\""
        },
        {
         "metadata": "{}",
         "name": "caught_and_bowled",
         "type": "\"boolean\""
        },
        {
         "metadata": "{}",
         "name": "hit_wicket",
         "type": "\"boolean\""
        },
        {
         "metadata": "{}",
         "name": "obstructingfeild",
         "type": "\"boolean\""
        },
        {
         "metadata": "{}",
         "name": "bowler_wicket",
         "type": "\"boolean\""
        },
        {
         "metadata": "{}",
         "name": "match_date",
         "type": "\"date\""
        },
        {
         "metadata": "{}",
         "name": "season",
         "type": "\"integer\""
        },
        {
         "metadata": "{}",
         "name": "striker",
         "type": "\"integer\""
        },
        {
         "metadata": "{}",
         "name": "non_striker",
         "type": "\"integer\""
        },
        {
         "metadata": "{}",
         "name": "bowler",
         "type": "\"integer\""
        },
        {
         "metadata": "{}",
         "name": "player_out",
         "type": "\"integer\""
        },
        {
         "metadata": "{}",
         "name": "fielders",
         "type": "\"integer\""
        },
        {
         "metadata": "{}",
         "name": "striker_match_sk",
         "type": "\"integer\""
        },
        {
         "metadata": "{}",
         "name": "strikersk",
         "type": "\"integer\""
        },
        {
         "metadata": "{}",
         "name": "nonstriker_match_sk",
         "type": "\"integer\""
        },
        {
         "metadata": "{}",
         "name": "nonstriker_sk",
         "type": "\"integer\""
        },
        {
         "metadata": "{}",
         "name": "fielder_match_sk",
         "type": "\"integer\""
        },
        {
         "metadata": "{}",
         "name": "fielder_sk",
         "type": "\"integer\""
        },
        {
         "metadata": "{}",
         "name": "bowler_match_sk",
         "type": "\"integer\""
        },
        {
         "metadata": "{}",
         "name": "bowler_sk",
         "type": "\"integer\""
        },
        {
         "metadata": "{}",
         "name": "playerout_match_sk",
         "type": "\"integer\""
        },
        {
         "metadata": "{}",
         "name": "battingteam_sk",
         "type": "\"integer\""
        },
        {
         "metadata": "{}",
         "name": "bowlingteam_sk",
         "type": "\"integer\""
        },
        {
         "metadata": "{}",
         "name": "keeper_catch",
         "type": "\"boolean\""
        },
        {
         "metadata": "{}",
         "name": "player_out_sk",
         "type": "\"integer\""
        },
        {
         "metadata": "{}",
         "name": "matchdatesk",
         "type": "\"date\""
        }
       ],
       "type": "table"
      }
     },
     "output_type": "display_data"
    }
   ],
   "source": [
    "ball_by_ball_df.filter((col(\"wides\") == 0) & (col(\"noballs\")==0)).limit(2).display()"
   ]
  },
  {
   "cell_type": "markdown",
   "metadata": {
    "application/vnd.databricks.v1+cell": {
     "cellMetadata": {
      "byteLimit": 2048000,
      "rowLimit": 10000
     },
     "inputWidgets": {},
     "nuid": "83c2b618-9db0-4cba-b1c3-5748d7544ac5",
     "showTitle": false,
     "tableResultSettingsMap": {},
     "title": ""
    }
   },
   "source": [
    "Calculate the total and average runs scored in each match and inning"
   ]
  },
  {
   "cell_type": "code",
   "execution_count": 0,
   "metadata": {
    "application/vnd.databricks.v1+cell": {
     "cellMetadata": {
      "byteLimit": 2048000,
      "rowLimit": 10000
     },
     "inputWidgets": {},
     "nuid": "a0b7dc3f-ff2d-4603-8ceb-3c2f56036114",
     "showTitle": false,
     "tableResultSettingsMap": {},
     "title": ""
    }
   },
   "outputs": [
    {
     "output_type": "display_data",
     "data": {
      "text/html": [
       "<style scoped>\n",
       "  .table-result-container {\n",
       "    max-height: 300px;\n",
       "    overflow: auto;\n",
       "  }\n",
       "  table, th, td {\n",
       "    border: 1px solid black;\n",
       "    border-collapse: collapse;\n",
       "  }\n",
       "  th, td {\n",
       "    padding: 5px;\n",
       "  }\n",
       "  th {\n",
       "    text-align: left;\n",
       "  }\n",
       "</style><div class='table-result-container'><table class='table-result'><thead style='background-color: white'><tr><th>match_id</th><th>innings_no</th><th>total_runs</th><th>average_runs</th></tr></thead><tbody><tr><td>980940</td><td>1</td><td>138</td><td>1.1219512195121952</td></tr><tr><td>419132</td><td>1</td><td>165</td><td>1.2692307692307692</td></tr><tr><td>1082632</td><td>2</td><td>202</td><td>1.8363636363636364</td></tr><tr><td>335993</td><td>2</td><td>131</td><td>1.5783132530120483</td></tr><tr><td>1082617</td><td>1</td><td>123</td><td>1.0165289256198347</td></tr></tbody></table></div>"
      ]
     },
     "metadata": {
      "application/vnd.databricks.v1+output": {
       "addedWidgets": {},
       "aggData": [],
       "aggError": "",
       "aggOverflow": false,
       "aggSchema": [],
       "aggSeriesLimitReached": false,
       "aggType": "",
       "arguments": {},
       "columnCustomDisplayInfos": {},
       "data": [
        [
         980940,
         1,
         138,
         1.1219512195121952
        ],
        [
         419132,
         1,
         165,
         1.2692307692307692
        ],
        [
         1082632,
         2,
         202,
         1.8363636363636364
        ],
        [
         335993,
         2,
         131,
         1.5783132530120483
        ],
        [
         1082617,
         1,
         123,
         1.0165289256198347
        ]
       ],
       "datasetInfos": [],
       "dbfsResultPath": null,
       "isJsonSchema": true,
       "metadata": {},
       "overflow": false,
       "plotOptions": {
        "customPlotOptions": {},
        "displayType": "table",
        "pivotAggregation": null,
        "pivotColumns": null,
        "xColumns": null,
        "yColumns": null
       },
       "removedWidgets": [],
       "schema": [
        {
         "metadata": "{}",
         "name": "match_id",
         "type": "\"integer\""
        },
        {
         "metadata": "{}",
         "name": "innings_no",
         "type": "\"integer\""
        },
        {
         "metadata": "{}",
         "name": "total_runs",
         "type": "\"long\""
        },
        {
         "metadata": "{}",
         "name": "average_runs",
         "type": "\"double\""
        }
       ],
       "type": "table"
      }
     },
     "output_type": "display_data"
    }
   ],
   "source": [
    "total_and_avg_runs = ball_by_ball_df.groupBy(\"match_id\", \"innings_no\").agg(\n",
    "    sum(\"runs_scored\").alias(\"total_runs\"),\n",
    "    avg(\"runs_scored\").alias(\"average_runs\")\n",
    ").limit(5)\n",
    "\n",
    "display(total_and_avg_runs)"
   ]
  },
  {
   "cell_type": "markdown",
   "metadata": {
    "application/vnd.databricks.v1+cell": {
     "cellMetadata": {
      "byteLimit": 2048000,
      "rowLimit": 10000
     },
     "inputWidgets": {},
     "nuid": "7fcbdd49-a934-4de4-bdad-cd3d5e9e5a3b",
     "showTitle": false,
     "tableResultSettingsMap": {},
     "title": ""
    }
   },
   "source": []
  },
  {
   "cell_type": "markdown",
   "metadata": {
    "application/vnd.databricks.v1+cell": {
     "cellMetadata": {},
     "inputWidgets": {},
     "nuid": "9bc3dcbb-d3a3-485c-80e3-17702ce9fc38",
     "showTitle": false,
     "tableResultSettingsMap": {},
     "title": ""
    }
   },
   "source": [
    "Flag for high impact balls (either a wicket or more than 6 runs including extras)\n"
   ]
  },
  {
   "cell_type": "code",
   "execution_count": 0,
   "metadata": {
    "application/vnd.databricks.v1+cell": {
     "cellMetadata": {
      "byteLimit": 2048000,
      "rowLimit": 10000
     },
     "inputWidgets": {},
     "nuid": "5537c52a-d499-4cd4-94e0-dc04076fd129",
     "showTitle": false,
     "tableResultSettingsMap": {},
     "title": ""
    }
   },
   "outputs": [],
   "source": [
    "ball_by_ball_df = ball_by_ball_df.withColumn(\n",
    "    \"high_impact\",\n",
    "    when((col(\"runs_scored\") + col(\"extra_runs\") > 6) | (col(\"bowler_wicket\") == True), True).otherwise(False)\n",
    ")"
   ]
  },
  {
   "cell_type": "markdown",
   "metadata": {
    "application/vnd.databricks.v1+cell": {
     "cellMetadata": {},
     "inputWidgets": {},
     "nuid": "7c7cab27-20f7-4b2b-93b1-ceeb77aff8f4",
     "showTitle": false,
     "tableResultSettingsMap": {},
     "title": ""
    }
   },
   "source": [
    "Calculate running total of runs in each match for each over"
   ]
  },
  {
   "cell_type": "code",
   "execution_count": 0,
   "metadata": {
    "application/vnd.databricks.v1+cell": {
     "cellMetadata": {
      "byteLimit": 2048000,
      "rowLimit": 10000
     },
     "inputWidgets": {},
     "nuid": "9292611f-6a55-4385-afa2-016c59777e8d",
     "showTitle": false,
     "tableResultSettingsMap": {},
     "title": ""
    }
   },
   "outputs": [],
   "source": [
    "windowSpec = Window.partitionBy(\"match_id\",\"innings_no\").orderBy(\"over_id\")\n",
    "\n",
    "ball_by_ball_df = ball_by_ball_df.withColumn(\n",
    "    \"running_total_runs\",\n",
    "    sum(\"runs_scored\").over(windowSpec)\n",
    ")\n"
   ]
  },
  {
   "cell_type": "code",
   "execution_count": 0,
   "metadata": {
    "application/vnd.databricks.v1+cell": {
     "cellMetadata": {
      "byteLimit": 2048000,
      "rowLimit": 10000
     },
     "inputWidgets": {},
     "nuid": "d5fc69bb-4cfa-44f9-b8c4-f2d38b61872c",
     "showTitle": false,
     "tableResultSettingsMap": {},
     "title": ""
    }
   },
   "outputs": [
    {
     "output_type": "stream",
     "name": "stdout",
     "output_type": "stream",
     "text": [
      "+--------+-------+-------+----------+------------+------------+------------------------+----------+-----------+----------+-----+-------+----+-------+-------+-------------+--------------+------+------+-------+----+------------+-------+-----------------+----------+----------------+-------------+----------+------+-------+-----------+------+----------+--------+----------------+---------+-------------------+-------------+----------------+----------+---------------+---------+------------------+--------------+--------------+------------+-------------+-----------+-----------+------------------+\n|match_id|over_id|ball_id|innings_no|team_batting|team_bowling|striker_batting_position|extra_type|runs_scored|extra_runs|wides|legbyes|byes|noballs|penalty|bowler_extras|      out_type|caught|bowled|run_out| lbw|retired_hurt|stumped|caught_and_bowled|hit_wicket|obstructingfeild|bowler_wicket|match_date|season|striker|non_striker|bowler|player_out|fielders|striker_match_sk|strikersk|nonstriker_match_sk|nonstriker_sk|fielder_match_sk|fielder_sk|bowler_match_sk|bowler_sk|playerout_match_sk|battingteam_sk|bowlingteam_sk|keeper_catch|player_out_sk|matchdatesk|high_impact|running_total_runs|\n+--------+-------+-------+----------+------------+------------+------------------------+----------+-----------+----------+-----+-------+----+-------+-------+-------------+--------------+------+------+-------+----+------------+-------+-----------------+----------+----------------+-------------+----------+------+-------+-----------+------+----------+--------+----------------+---------+-------------------+-------------+----------------+----------+---------------+---------+------------------+--------------+--------------+------------+-------------+-----------+-----------+------------------+\n|  335990|      1|      1|         2|           2|           7|                       1| No Extras|          0|         0|    0|      0|   0|      0|      0|            0|Not Applicable|  null|  null|   null|null|        null|   null|             null|      null|            null|         null|      null|  2008|     51|          6|    73|      null|    null|           12779|       50|              12771|            5|              -1|        -1|          12769|       72|                -1|             1|             6|        null|            0|       null|      false|                10|\n|  335990|      1|      2|         2|           2|           7|                       1| No Extras|          1|         0|    0|      0|   0|      0|      0|            0|Not Applicable|  null|  null|   null|null|        null|   null|             null|      null|            null|         null|      null|  2008|     51|          6|    73|      null|    null|           12779|       50|              12771|            5|              -1|        -1|          12769|       72|                -1|             1|             6|        null|            0|       null|      false|                10|\n|  335990|      1|      3|         2|           2|           7|                       2| No Extras|          0|         0|    0|      0|   0|      0|      0|            0|Not Applicable|  null|  null|   null|null|        null|   null|             null|      null|            null|         null|      null|  2008|      6|         51|    73|      null|    null|           12771|        5|              12779|           50|              -1|        -1|          12769|       72|                -1|             1|             6|        null|            0|       null|      false|                10|\n|  335990|      1|      4|         2|           2|           7|                       2| No Extras|          1|         0|    0|      0|   0|      0|      0|            0|Not Applicable|  null|  null|   null|null|        null|   null|             null|      null|            null|         null|      null|  2008|      6|         51|    73|      null|    null|           12771|        5|              12779|           50|              -1|        -1|          12769|       72|                -1|             1|             6|        null|            0|       null|      false|                10|\n|  335990|      1|      5|         2|           2|           7|                       1| No Extras|          4|         0|    0|      0|   0|      0|      0|            0|Not Applicable|  null|  null|   null|null|        null|   null|             null|      null|            null|         null|      null|  2008|     51|          6|    73|      null|    null|           12779|       50|              12771|            5|              -1|        -1|          12769|       72|                -1|             1|             6|        null|            0|       null|      false|                10|\n+--------+-------+-------+----------+------------+------------+------------------------+----------+-----------+----------+-----+-------+----+-------+-------+-------------+--------------+------+------+-------+----+------------+-------+-----------------+----------+----------------+-------------+----------+------+-------+-----------+------+----------+--------+----------------+---------+-------------------+-------------+----------------+----------+---------------+---------+------------------+--------------+--------------+------------+-------------+-----------+-----------+------------------+\nonly showing top 5 rows\n\n"
     ]
    }
   ],
   "source": [
    "ball_by_ball_df.show(5)"
   ]
  },
  {
   "cell_type": "code",
   "execution_count": 0,
   "metadata": {
    "application/vnd.databricks.v1+cell": {
     "cellMetadata": {
      "byteLimit": 2048000,
      "rowLimit": 10000
     },
     "inputWidgets": {},
     "nuid": "1b00429b-d9ed-4733-ae7b-c9958310259b",
     "showTitle": false,
     "tableResultSettingsMap": {},
     "title": ""
    }
   },
   "outputs": [
    {
     "output_type": "display_data",
     "data": {
      "text/html": [
       "<style scoped>\n",
       "  .table-result-container {\n",
       "    max-height: 300px;\n",
       "    overflow: auto;\n",
       "  }\n",
       "  table, th, td {\n",
       "    border: 1px solid black;\n",
       "    border-collapse: collapse;\n",
       "  }\n",
       "  th, td {\n",
       "    padding: 5px;\n",
       "  }\n",
       "  th {\n",
       "    text-align: left;\n",
       "  }\n",
       "</style><div class='table-result-container'><table class='table-result'><thead style='background-color: white'><tr><th>match_id</th><th>over_id</th><th>ball_id</th><th>innings_no</th><th>team_batting</th><th>team_bowling</th><th>striker_batting_position</th><th>extra_type</th><th>runs_scored</th><th>extra_runs</th><th>wides</th><th>legbyes</th><th>byes</th><th>noballs</th><th>penalty</th><th>bowler_extras</th><th>out_type</th><th>caught</th><th>bowled</th><th>run_out</th><th>lbw</th><th>retired_hurt</th><th>stumped</th><th>caught_and_bowled</th><th>hit_wicket</th><th>obstructingfeild</th><th>bowler_wicket</th><th>match_date</th><th>season</th><th>striker</th><th>non_striker</th><th>bowler</th><th>player_out</th><th>fielders</th><th>striker_match_sk</th><th>strikersk</th><th>nonstriker_match_sk</th><th>nonstriker_sk</th><th>fielder_match_sk</th><th>fielder_sk</th><th>bowler_match_sk</th><th>bowler_sk</th><th>playerout_match_sk</th><th>battingteam_sk</th><th>bowlingteam_sk</th><th>keeper_catch</th><th>player_out_sk</th><th>matchdatesk</th><th>high_impact</th><th>running_total_runs</th></tr></thead><tbody><tr><td>335990</td><td>1</td><td>1</td><td>2</td><td>2</td><td>7</td><td>1</td><td>No Extras</td><td>0</td><td>0</td><td>0</td><td>0</td><td>0</td><td>0</td><td>0</td><td>0</td><td>Not Applicable</td><td>null</td><td>null</td><td>null</td><td>null</td><td>null</td><td>null</td><td>null</td><td>null</td><td>null</td><td>null</td><td>null</td><td>2008</td><td>51</td><td>6</td><td>73</td><td>null</td><td>null</td><td>12779</td><td>50</td><td>12771</td><td>5</td><td>-1</td><td>-1</td><td>12769</td><td>72</td><td>-1</td><td>1</td><td>6</td><td>null</td><td>0</td><td>null</td><td>false</td><td>10</td></tr><tr><td>335990</td><td>1</td><td>2</td><td>2</td><td>2</td><td>7</td><td>1</td><td>No Extras</td><td>1</td><td>0</td><td>0</td><td>0</td><td>0</td><td>0</td><td>0</td><td>0</td><td>Not Applicable</td><td>null</td><td>null</td><td>null</td><td>null</td><td>null</td><td>null</td><td>null</td><td>null</td><td>null</td><td>null</td><td>null</td><td>2008</td><td>51</td><td>6</td><td>73</td><td>null</td><td>null</td><td>12779</td><td>50</td><td>12771</td><td>5</td><td>-1</td><td>-1</td><td>12769</td><td>72</td><td>-1</td><td>1</td><td>6</td><td>null</td><td>0</td><td>null</td><td>false</td><td>10</td></tr><tr><td>335990</td><td>1</td><td>3</td><td>2</td><td>2</td><td>7</td><td>2</td><td>No Extras</td><td>0</td><td>0</td><td>0</td><td>0</td><td>0</td><td>0</td><td>0</td><td>0</td><td>Not Applicable</td><td>null</td><td>null</td><td>null</td><td>null</td><td>null</td><td>null</td><td>null</td><td>null</td><td>null</td><td>null</td><td>null</td><td>2008</td><td>6</td><td>51</td><td>73</td><td>null</td><td>null</td><td>12771</td><td>5</td><td>12779</td><td>50</td><td>-1</td><td>-1</td><td>12769</td><td>72</td><td>-1</td><td>1</td><td>6</td><td>null</td><td>0</td><td>null</td><td>false</td><td>10</td></tr><tr><td>335990</td><td>1</td><td>4</td><td>2</td><td>2</td><td>7</td><td>2</td><td>No Extras</td><td>1</td><td>0</td><td>0</td><td>0</td><td>0</td><td>0</td><td>0</td><td>0</td><td>Not Applicable</td><td>null</td><td>null</td><td>null</td><td>null</td><td>null</td><td>null</td><td>null</td><td>null</td><td>null</td><td>null</td><td>null</td><td>2008</td><td>6</td><td>51</td><td>73</td><td>null</td><td>null</td><td>12771</td><td>5</td><td>12779</td><td>50</td><td>-1</td><td>-1</td><td>12769</td><td>72</td><td>-1</td><td>1</td><td>6</td><td>null</td><td>0</td><td>null</td><td>false</td><td>10</td></tr><tr><td>335990</td><td>1</td><td>5</td><td>2</td><td>2</td><td>7</td><td>1</td><td>No Extras</td><td>4</td><td>0</td><td>0</td><td>0</td><td>0</td><td>0</td><td>0</td><td>0</td><td>Not Applicable</td><td>null</td><td>null</td><td>null</td><td>null</td><td>null</td><td>null</td><td>null</td><td>null</td><td>null</td><td>null</td><td>null</td><td>2008</td><td>51</td><td>6</td><td>73</td><td>null</td><td>null</td><td>12779</td><td>50</td><td>12771</td><td>5</td><td>-1</td><td>-1</td><td>12769</td><td>72</td><td>-1</td><td>1</td><td>6</td><td>null</td><td>0</td><td>null</td><td>false</td><td>10</td></tr></tbody></table></div>"
      ]
     },
     "metadata": {
      "application/vnd.databricks.v1+output": {
       "addedWidgets": {},
       "aggData": [],
       "aggError": "",
       "aggOverflow": false,
       "aggSchema": [],
       "aggSeriesLimitReached": false,
       "aggType": "",
       "arguments": {},
       "columnCustomDisplayInfos": {},
       "data": [
        [
         335990,
         1,
         1,
         2,
         "2",
         "7",
         1,
         "No Extras",
         0,
         0,
         0,
         0,
         0,
         0,
         0,
         0,
         "Not Applicable",
         null,
         null,
         null,
         null,
         null,
         null,
         null,
         null,
         null,
         null,
         null,
         2008,
         51,
         6,
         73,
         null,
         null,
         12779,
         50,
         12771,
         5,
         -1,
         -1,
         12769,
         72,
         -1,
         1,
         6,
         null,
         0,
         null,
         false,
         10
        ],
        [
         335990,
         1,
         2,
         2,
         "2",
         "7",
         1,
         "No Extras",
         1,
         0,
         0,
         0,
         0,
         0,
         0,
         0,
         "Not Applicable",
         null,
         null,
         null,
         null,
         null,
         null,
         null,
         null,
         null,
         null,
         null,
         2008,
         51,
         6,
         73,
         null,
         null,
         12779,
         50,
         12771,
         5,
         -1,
         -1,
         12769,
         72,
         -1,
         1,
         6,
         null,
         0,
         null,
         false,
         10
        ],
        [
         335990,
         1,
         3,
         2,
         "2",
         "7",
         2,
         "No Extras",
         0,
         0,
         0,
         0,
         0,
         0,
         0,
         0,
         "Not Applicable",
         null,
         null,
         null,
         null,
         null,
         null,
         null,
         null,
         null,
         null,
         null,
         2008,
         6,
         51,
         73,
         null,
         null,
         12771,
         5,
         12779,
         50,
         -1,
         -1,
         12769,
         72,
         -1,
         1,
         6,
         null,
         0,
         null,
         false,
         10
        ],
        [
         335990,
         1,
         4,
         2,
         "2",
         "7",
         2,
         "No Extras",
         1,
         0,
         0,
         0,
         0,
         0,
         0,
         0,
         "Not Applicable",
         null,
         null,
         null,
         null,
         null,
         null,
         null,
         null,
         null,
         null,
         null,
         2008,
         6,
         51,
         73,
         null,
         null,
         12771,
         5,
         12779,
         50,
         -1,
         -1,
         12769,
         72,
         -1,
         1,
         6,
         null,
         0,
         null,
         false,
         10
        ],
        [
         335990,
         1,
         5,
         2,
         "2",
         "7",
         1,
         "No Extras",
         4,
         0,
         0,
         0,
         0,
         0,
         0,
         0,
         "Not Applicable",
         null,
         null,
         null,
         null,
         null,
         null,
         null,
         null,
         null,
         null,
         null,
         2008,
         51,
         6,
         73,
         null,
         null,
         12779,
         50,
         12771,
         5,
         -1,
         -1,
         12769,
         72,
         -1,
         1,
         6,
         null,
         0,
         null,
         false,
         10
        ]
       ],
       "datasetInfos": [],
       "dbfsResultPath": null,
       "isJsonSchema": true,
       "metadata": {},
       "overflow": false,
       "plotOptions": {
        "customPlotOptions": {},
        "displayType": "table",
        "pivotAggregation": null,
        "pivotColumns": null,
        "xColumns": null,
        "yColumns": null
       },
       "removedWidgets": [],
       "schema": [
        {
         "metadata": "{}",
         "name": "match_id",
         "type": "\"integer\""
        },
        {
         "metadata": "{}",
         "name": "over_id",
         "type": "\"integer\""
        },
        {
         "metadata": "{}",
         "name": "ball_id",
         "type": "\"integer\""
        },
        {
         "metadata": "{}",
         "name": "innings_no",
         "type": "\"integer\""
        },
        {
         "metadata": "{}",
         "name": "team_batting",
         "type": "\"string\""
        },
        {
         "metadata": "{}",
         "name": "team_bowling",
         "type": "\"string\""
        },
        {
         "metadata": "{}",
         "name": "striker_batting_position",
         "type": "\"integer\""
        },
        {
         "metadata": "{}",
         "name": "extra_type",
         "type": "\"string\""
        },
        {
         "metadata": "{}",
         "name": "runs_scored",
         "type": "\"integer\""
        },
        {
         "metadata": "{}",
         "name": "extra_runs",
         "type": "\"integer\""
        },
        {
         "metadata": "{}",
         "name": "wides",
         "type": "\"integer\""
        },
        {
         "metadata": "{}",
         "name": "legbyes",
         "type": "\"integer\""
        },
        {
         "metadata": "{}",
         "name": "byes",
         "type": "\"integer\""
        },
        {
         "metadata": "{}",
         "name": "noballs",
         "type": "\"integer\""
        },
        {
         "metadata": "{}",
         "name": "penalty",
         "type": "\"integer\""
        },
        {
         "metadata": "{}",
         "name": "bowler_extras",
         "type": "\"integer\""
        },
        {
         "metadata": "{}",
         "name": "out_type",
         "type": "\"string\""
        },
        {
         "metadata": "{}",
         "name": "caught",
         "type": "\"boolean\""
        },
        {
         "metadata": "{}",
         "name": "bowled",
         "type": "\"boolean\""
        },
        {
         "metadata": "{}",
         "name": "run_out",
         "type": "\"boolean\""
        },
        {
         "metadata": "{}",
         "name": "lbw",
         "type": "\"boolean\""
        },
        {
         "metadata": "{}",
         "name": "retired_hurt",
         "type": "\"boolean\""
        },
        {
         "metadata": "{}",
         "name": "stumped",
         "type": "\"boolean\""
        },
        {
         "metadata": "{}",
         "name": "caught_and_bowled",
         "type": "\"boolean\""
        },
        {
         "metadata": "{}",
         "name": "hit_wicket",
         "type": "\"boolean\""
        },
        {
         "metadata": "{}",
         "name": "obstructingfeild",
         "type": "\"boolean\""
        },
        {
         "metadata": "{}",
         "name": "bowler_wicket",
         "type": "\"boolean\""
        },
        {
         "metadata": "{}",
         "name": "match_date",
         "type": "\"date\""
        },
        {
         "metadata": "{}",
         "name": "season",
         "type": "\"integer\""
        },
        {
         "metadata": "{}",
         "name": "striker",
         "type": "\"integer\""
        },
        {
         "metadata": "{}",
         "name": "non_striker",
         "type": "\"integer\""
        },
        {
         "metadata": "{}",
         "name": "bowler",
         "type": "\"integer\""
        },
        {
         "metadata": "{}",
         "name": "player_out",
         "type": "\"integer\""
        },
        {
         "metadata": "{}",
         "name": "fielders",
         "type": "\"integer\""
        },
        {
         "metadata": "{}",
         "name": "striker_match_sk",
         "type": "\"integer\""
        },
        {
         "metadata": "{}",
         "name": "strikersk",
         "type": "\"integer\""
        },
        {
         "metadata": "{}",
         "name": "nonstriker_match_sk",
         "type": "\"integer\""
        },
        {
         "metadata": "{}",
         "name": "nonstriker_sk",
         "type": "\"integer\""
        },
        {
         "metadata": "{}",
         "name": "fielder_match_sk",
         "type": "\"integer\""
        },
        {
         "metadata": "{}",
         "name": "fielder_sk",
         "type": "\"integer\""
        },
        {
         "metadata": "{}",
         "name": "bowler_match_sk",
         "type": "\"integer\""
        },
        {
         "metadata": "{}",
         "name": "bowler_sk",
         "type": "\"integer\""
        },
        {
         "metadata": "{}",
         "name": "playerout_match_sk",
         "type": "\"integer\""
        },
        {
         "metadata": "{}",
         "name": "battingteam_sk",
         "type": "\"integer\""
        },
        {
         "metadata": "{}",
         "name": "bowlingteam_sk",
         "type": "\"integer\""
        },
        {
         "metadata": "{}",
         "name": "keeper_catch",
         "type": "\"boolean\""
        },
        {
         "metadata": "{}",
         "name": "player_out_sk",
         "type": "\"integer\""
        },
        {
         "metadata": "{}",
         "name": "matchdatesk",
         "type": "\"date\""
        },
        {
         "metadata": "{}",
         "name": "high_impact",
         "type": "\"boolean\""
        },
        {
         "metadata": "{}",
         "name": "running_total_runs",
         "type": "\"long\""
        }
       ],
       "type": "table"
      }
     },
     "output_type": "display_data"
    }
   ],
   "source": [
    "ball_by_ball_df.limit(5).display()"
   ]
  },
  {
   "cell_type": "markdown",
   "metadata": {
    "application/vnd.databricks.v1+cell": {
     "cellMetadata": {},
     "inputWidgets": {},
     "nuid": "4b4e5522-e19f-409d-ad92-ee4f8a0965bb",
     "showTitle": false,
     "tableResultSettingsMap": {},
     "title": ""
    }
   },
   "source": [
    "Extracting year, month, and day from the match date for more detailed time-based analysis"
   ]
  },
  {
   "cell_type": "code",
   "execution_count": 0,
   "metadata": {
    "application/vnd.databricks.v1+cell": {
     "cellMetadata": {},
     "inputWidgets": {},
     "nuid": "34b19858-9298-4337-917c-ca8fd4c3b2bf",
     "showTitle": false,
     "tableResultSettingsMap": {},
     "title": ""
    }
   },
   "outputs": [],
   "source": [
    "\n",
    "match_df = match_df.withColumn(\"year\", year(\"match_date\"))\n",
    "match_df = match_df.withColumn(\"month\", month(\"match_date\"))\n",
    "match_df = match_df.withColumn(\"day\", dayofmonth(\"match_date\"))\n"
   ]
  },
  {
   "cell_type": "markdown",
   "metadata": {
    "application/vnd.databricks.v1+cell": {
     "cellMetadata": {},
     "inputWidgets": {},
     "nuid": "0958f04a-1d76-458f-9a0a-6748a3a1f587",
     "showTitle": false,
     "tableResultSettingsMap": {},
     "title": ""
    }
   },
   "source": [
    "High margin win: categorizing win margins into 'high', 'medium', and 'low'"
   ]
  },
  {
   "cell_type": "code",
   "execution_count": 0,
   "metadata": {
    "application/vnd.databricks.v1+cell": {
     "cellMetadata": {
      "byteLimit": 2048000,
      "rowLimit": 10000
     },
     "inputWidgets": {},
     "nuid": "c4722922-2c9d-4f8a-9954-8348f1f08850",
     "showTitle": false,
     "tableResultSettingsMap": {},
     "title": ""
    }
   },
   "outputs": [],
   "source": [
    "\n",
    "match_df = match_df.withColumn(\n",
    "    \"win_margin_category\",\n",
    "    when(col(\"win_margin\") >= 100, \"High\")\n",
    "    .when((col(\"win_margin\") >= 50) & (col(\"win_margin\") < 100), \"Medium\")\n",
    "    .otherwise(\"Low\")\n",
    ")"
   ]
  },
  {
   "cell_type": "markdown",
   "metadata": {
    "application/vnd.databricks.v1+cell": {
     "cellMetadata": {},
     "inputWidgets": {},
     "nuid": "c6eecece-ab28-494d-9dc5-29b491df0d59",
     "showTitle": false,
     "tableResultSettingsMap": {},
     "title": ""
    }
   },
   "source": [
    "Analyze the impact of the toss: who wins the toss and the match"
   ]
  },
  {
   "cell_type": "code",
   "execution_count": 0,
   "metadata": {
    "application/vnd.databricks.v1+cell": {
     "cellMetadata": {
      "byteLimit": 2048000,
      "rowLimit": 10000
     },
     "inputWidgets": {},
     "nuid": "39731e07-24c1-46ef-906b-502d661d5c56",
     "showTitle": false,
     "tableResultSettingsMap": {},
     "title": ""
    }
   },
   "outputs": [],
   "source": [
    "\n",
    "match_df = match_df.withColumn(\n",
    "    \"toss_match_winner\",\n",
    "    when(col(\"toss_winner\") == col(\"match_winner\"), \"Yes\").otherwise(\"No\")\n",
    ")"
   ]
  },
  {
   "cell_type": "code",
   "execution_count": 0,
   "metadata": {
    "application/vnd.databricks.v1+cell": {
     "cellMetadata": {
      "byteLimit": 2048000,
      "rowLimit": 10000
     },
     "inputWidgets": {},
     "nuid": "a938c493-5c1c-484e-b0e4-1e2be4c4de0f",
     "showTitle": false,
     "tableResultSettingsMap": {},
     "title": ""
    }
   },
   "outputs": [
    {
     "output_type": "display_data",
     "data": {
      "text/html": [
       "<style scoped>\n",
       "  .table-result-container {\n",
       "    max-height: 300px;\n",
       "    overflow: auto;\n",
       "  }\n",
       "  table, th, td {\n",
       "    border: 1px solid black;\n",
       "    border-collapse: collapse;\n",
       "  }\n",
       "  th, td {\n",
       "    padding: 5px;\n",
       "  }\n",
       "  th {\n",
       "    text-align: left;\n",
       "  }\n",
       "</style><div class='table-result-container'><table class='table-result'><thead style='background-color: white'><tr><th>match_sk</th><th>match_id</th><th>team1</th><th>team2</th><th>match_date</th><th>season_year</th><th>venue_name</th><th>city_name</th><th>country_name</th><th>toss_winner</th><th>match_winner</th><th>toss_name</th><th>win_type</th><th>outcome_type</th><th>manofmach</th><th>win_margin</th><th>country_id</th><th>win_margin_category</th><th>toss_match_winner</th></tr></thead><tbody><tr><td>0</td><td>335987</td><td>Royal Challengers Bangalore</td><td>Kolkata Knight Riders</td><td>null</td><td>2008</td><td>M Chinnaswamy Stadium</td><td>Bangalore</td><td>India</td><td>Royal Challengers Bangalore</td><td>Kolkata Knight Riders</td><td>field</td><td>runs</td><td>Result</td><td>BB McCullum</td><td>140</td><td>1</td><td>High</td><td>No</td></tr><tr><td>1</td><td>335988</td><td>Kings XI Punjab</td><td>Chennai Super Kings</td><td>null</td><td>2008</td><td>Punjab Cricket Association Stadium, Mohali</td><td>Chandigarh</td><td>India</td><td>Chennai Super Kings</td><td>Chennai Super Kings</td><td>bat</td><td>runs</td><td>Result</td><td>MEK Hussey</td><td>33</td><td>1</td><td>Low</td><td>Yes</td></tr><tr><td>2</td><td>335989</td><td>Delhi Daredevils</td><td>Rajasthan Royals</td><td>null</td><td>2008</td><td>Feroz Shah Kotla</td><td>Delhi</td><td>India</td><td>Rajasthan Royals</td><td>Delhi Daredevils</td><td>bat</td><td>wickets</td><td>Result</td><td>MF Maharoof</td><td>9</td><td>1</td><td>Low</td><td>No</td></tr><tr><td>3</td><td>335990</td><td>Mumbai Indians</td><td>Royal Challengers Bangalore</td><td>null</td><td>2008</td><td>Wankhede Stadium</td><td>Mumbai</td><td>India</td><td>Mumbai Indians</td><td>Royal Challengers Bangalore</td><td>bat</td><td>wickets</td><td>Result</td><td>MV Boucher</td><td>5</td><td>1</td><td>Low</td><td>No</td></tr><tr><td>4</td><td>335991</td><td>Kolkata Knight Riders</td><td>Deccan Chargers</td><td>null</td><td>2008</td><td>Eden Gardens</td><td>Kolkata</td><td>India</td><td>Deccan Chargers</td><td>Kolkata Knight Riders</td><td>bat</td><td>wickets</td><td>Result</td><td>DJ Hussey</td><td>5</td><td>1</td><td>Low</td><td>No</td></tr></tbody></table></div>"
      ]
     },
     "metadata": {
      "application/vnd.databricks.v1+output": {
       "addedWidgets": {},
       "aggData": [],
       "aggError": "",
       "aggOverflow": false,
       "aggSchema": [],
       "aggSeriesLimitReached": false,
       "aggType": "",
       "arguments": {},
       "columnCustomDisplayInfos": {},
       "data": [
        [
         0,
         335987,
         "Royal Challengers Bangalore",
         "Kolkata Knight Riders",
         null,
         2008,
         "M Chinnaswamy Stadium",
         "Bangalore",
         "India",
         "Royal Challengers Bangalore",
         "Kolkata Knight Riders",
         "field",
         "runs",
         "Result",
         "BB McCullum",
         140,
         1,
         "High",
         "No"
        ],
        [
         1,
         335988,
         "Kings XI Punjab",
         "Chennai Super Kings",
         null,
         2008,
         "Punjab Cricket Association Stadium, Mohali",
         "Chandigarh",
         "India",
         "Chennai Super Kings",
         "Chennai Super Kings",
         "bat",
         "runs",
         "Result",
         "MEK Hussey",
         33,
         1,
         "Low",
         "Yes"
        ],
        [
         2,
         335989,
         "Delhi Daredevils",
         "Rajasthan Royals",
         null,
         2008,
         "Feroz Shah Kotla",
         "Delhi",
         "India",
         "Rajasthan Royals",
         "Delhi Daredevils",
         "bat",
         "wickets",
         "Result",
         "MF Maharoof",
         9,
         1,
         "Low",
         "No"
        ],
        [
         3,
         335990,
         "Mumbai Indians",
         "Royal Challengers Bangalore",
         null,
         2008,
         "Wankhede Stadium",
         "Mumbai",
         "India",
         "Mumbai Indians",
         "Royal Challengers Bangalore",
         "bat",
         "wickets",
         "Result",
         "MV Boucher",
         5,
         1,
         "Low",
         "No"
        ],
        [
         4,
         335991,
         "Kolkata Knight Riders",
         "Deccan Chargers",
         null,
         2008,
         "Eden Gardens",
         "Kolkata",
         "India",
         "Deccan Chargers",
         "Kolkata Knight Riders",
         "bat",
         "wickets",
         "Result",
         "DJ Hussey",
         5,
         1,
         "Low",
         "No"
        ]
       ],
       "datasetInfos": [],
       "dbfsResultPath": null,
       "isJsonSchema": true,
       "metadata": {},
       "overflow": false,
       "plotOptions": {
        "customPlotOptions": {},
        "displayType": "table",
        "pivotAggregation": null,
        "pivotColumns": null,
        "xColumns": null,
        "yColumns": null
       },
       "removedWidgets": [],
       "schema": [
        {
         "metadata": "{}",
         "name": "match_sk",
         "type": "\"integer\""
        },
        {
         "metadata": "{}",
         "name": "match_id",
         "type": "\"integer\""
        },
        {
         "metadata": "{}",
         "name": "team1",
         "type": "\"string\""
        },
        {
         "metadata": "{}",
         "name": "team2",
         "type": "\"string\""
        },
        {
         "metadata": "{}",
         "name": "match_date",
         "type": "\"date\""
        },
        {
         "metadata": "{}",
         "name": "season_year",
         "type": "\"integer\""
        },
        {
         "metadata": "{}",
         "name": "venue_name",
         "type": "\"string\""
        },
        {
         "metadata": "{}",
         "name": "city_name",
         "type": "\"string\""
        },
        {
         "metadata": "{}",
         "name": "country_name",
         "type": "\"string\""
        },
        {
         "metadata": "{}",
         "name": "toss_winner",
         "type": "\"string\""
        },
        {
         "metadata": "{}",
         "name": "match_winner",
         "type": "\"string\""
        },
        {
         "metadata": "{}",
         "name": "toss_name",
         "type": "\"string\""
        },
        {
         "metadata": "{}",
         "name": "win_type",
         "type": "\"string\""
        },
        {
         "metadata": "{}",
         "name": "outcome_type",
         "type": "\"string\""
        },
        {
         "metadata": "{}",
         "name": "manofmach",
         "type": "\"string\""
        },
        {
         "metadata": "{}",
         "name": "win_margin",
         "type": "\"integer\""
        },
        {
         "metadata": "{}",
         "name": "country_id",
         "type": "\"integer\""
        },
        {
         "metadata": "{}",
         "name": "win_margin_category",
         "type": "\"string\""
        },
        {
         "metadata": "{}",
         "name": "toss_match_winner",
         "type": "\"string\""
        }
       ],
       "type": "table"
      }
     },
     "output_type": "display_data"
    }
   ],
   "source": [
    "match_df.limit(5).display()"
   ]
  },
  {
   "cell_type": "code",
   "execution_count": 0,
   "metadata": {
    "application/vnd.databricks.v1+cell": {
     "cellMetadata": {
      "byteLimit": 2048000,
      "rowLimit": 10000
     },
     "inputWidgets": {},
     "nuid": "16aea77a-0ba8-49e9-bbe6-ee7a52c1b1d2",
     "showTitle": false,
     "tableResultSettingsMap": {},
     "title": ""
    }
   },
   "outputs": [
    {
     "output_type": "display_data",
     "data": {
      "text/html": [
       "<style scoped>\n",
       "  .table-result-container {\n",
       "    max-height: 300px;\n",
       "    overflow: auto;\n",
       "  }\n",
       "  table, th, td {\n",
       "    border: 1px solid black;\n",
       "    border-collapse: collapse;\n",
       "  }\n",
       "  th, td {\n",
       "    padding: 5px;\n",
       "  }\n",
       "  th {\n",
       "    text-align: left;\n",
       "  }\n",
       "</style><div class='table-result-container'><table class='table-result'><thead style='background-color: white'><tr><th>player_sk</th><th>player_id</th><th>player_name</th><th>dob</th><th>batting_hand</th><th>bowling_skill</th><th>country_name</th><th>batting_style</th></tr></thead><tbody><tr><td>0</td><td>1</td><td>sc ganguly</td><td>null</td><td>Left-hand bat</td><td>Right-arm medium</td><td>India</td><td>Right-Handed</td></tr><tr><td>1</td><td>2</td><td>bb mccullum</td><td>null</td><td>Right-hand bat</td><td>Right-arm medium</td><td>New Zealand</td><td>Right-Handed</td></tr><tr><td>2</td><td>3</td><td>rt ponting</td><td>null</td><td>Right-hand bat</td><td>Right-arm medium</td><td>Australia</td><td>Right-Handed</td></tr><tr><td>3</td><td>4</td><td>dj hussey</td><td>null</td><td>Right-hand bat</td><td>Right-arm offbreak</td><td>Australia</td><td>Right-Handed</td></tr><tr><td>4</td><td>5</td><td>mohammad hafeez</td><td>null</td><td>Right-hand bat</td><td>Right-arm offbreak</td><td>Pakistan</td><td>Right-Handed</td></tr></tbody></table></div>"
      ]
     },
     "metadata": {
      "application/vnd.databricks.v1+output": {
       "addedWidgets": {},
       "aggData": [],
       "aggError": "",
       "aggOverflow": false,
       "aggSchema": [],
       "aggSeriesLimitReached": false,
       "aggType": "",
       "arguments": {},
       "columnCustomDisplayInfos": {},
       "data": [
        [
         0,
         1,
         "sc ganguly",
         null,
         "Left-hand bat",
         "Right-arm medium",
         "India",
         "Right-Handed"
        ],
        [
         1,
         2,
         "bb mccullum",
         null,
         "Right-hand bat",
         "Right-arm medium",
         "New Zealand",
         "Right-Handed"
        ],
        [
         2,
         3,
         "rt ponting",
         null,
         "Right-hand bat",
         "Right-arm medium",
         "Australia",
         "Right-Handed"
        ],
        [
         3,
         4,
         "dj hussey",
         null,
         "Right-hand bat",
         "Right-arm offbreak",
         "Australia",
         "Right-Handed"
        ],
        [
         4,
         5,
         "mohammad hafeez",
         null,
         "Right-hand bat",
         "Right-arm offbreak",
         "Pakistan",
         "Right-Handed"
        ]
       ],
       "datasetInfos": [],
       "dbfsResultPath": null,
       "isJsonSchema": true,
       "metadata": {},
       "overflow": false,
       "plotOptions": {
        "customPlotOptions": {},
        "displayType": "table",
        "pivotAggregation": null,
        "pivotColumns": null,
        "xColumns": null,
        "yColumns": null
       },
       "removedWidgets": [],
       "schema": [
        {
         "metadata": "{}",
         "name": "player_sk",
         "type": "\"integer\""
        },
        {
         "metadata": "{}",
         "name": "player_id",
         "type": "\"integer\""
        },
        {
         "metadata": "{}",
         "name": "player_name",
         "type": "\"string\""
        },
        {
         "metadata": "{}",
         "name": "dob",
         "type": "\"date\""
        },
        {
         "metadata": "{}",
         "name": "batting_hand",
         "type": "\"string\""
        },
        {
         "metadata": "{}",
         "name": "bowling_skill",
         "type": "\"string\""
        },
        {
         "metadata": "{}",
         "name": "country_name",
         "type": "\"string\""
        },
        {
         "metadata": "{}",
         "name": "batting_style",
         "type": "\"string\""
        }
       ],
       "type": "table"
      }
     },
     "output_type": "display_data"
    }
   ],
   "source": [
    "# Normalizing and cleaning player names\n",
    "player_df = player_df.withColumn(\"player_name\", lower(regexp_replace(\"player_name\", \"[^a-zA-Z0-9 ]\", \"\")))\n",
    "\n",
    "# Handle missing values in 'batting_hand' and 'bowling_skill' with a default 'unknown'\n",
    "player_df = player_df.na.fill({\"batting_hand\": \"unknown\", \"bowling_skill\": \"unknown\"})\n",
    "\n",
    "# Categorizing players based on batting hand\n",
    "player_df = player_df.withColumn(\n",
    "    \"batting_style\",\n",
    "    when(col(\"batting_hand\").contains(\"left\"), \"Left-Handed\").otherwise(\"Right-Handed\")\n",
    ")\n",
    "\n",
    "# displaying the modified player DataFrame\n",
    "player_df.limit(5).display()"
   ]
  },
  {
   "cell_type": "code",
   "execution_count": 0,
   "metadata": {
    "application/vnd.databricks.v1+cell": {
     "cellMetadata": {
      "byteLimit": 2048000,
      "rowLimit": 10000
     },
     "inputWidgets": {},
     "nuid": "1e91e989-e439-459c-9162-1fc4c6ea9006",
     "showTitle": false,
     "tableResultSettingsMap": {},
     "title": ""
    }
   },
   "outputs": [
    {
     "output_type": "display_data",
     "data": {
      "text/html": [
       "<style scoped>\n",
       "  .table-result-container {\n",
       "    max-height: 300px;\n",
       "    overflow: auto;\n",
       "  }\n",
       "  table, th, td {\n",
       "    border: 1px solid black;\n",
       "    border-collapse: collapse;\n",
       "  }\n",
       "  th, td {\n",
       "    padding: 5px;\n",
       "  }\n",
       "  th {\n",
       "    text-align: left;\n",
       "  }\n",
       "</style><div class='table-result-container'><table class='table-result'><thead style='background-color: white'><tr><th>player_match_sk</th><th>playermatch_key</th><th>match_id</th><th>player_id</th><th>player_name</th><th>dob</th><th>batting_hand</th><th>bowling_skill</th><th>country_name</th><th>role_desc</th><th>player_team</th><th>opposit_team</th><th>season_year</th><th>is_manofthematch</th><th>age_as_on_match</th><th>isplayers_team_won</th><th>batting_status</th><th>bowling_status</th><th>player_captain</th><th>opposit_captain</th><th>player_keeper</th><th>opposit_keeper</th><th>veteran_status</th><th>years_since_debut</th></tr></thead><tbody><tr><td>-1</td><td>-1</td><td>-1</td><td>-1</td><td>N/A</td><td>null</td><td>null</td><td>null</td><td>null</td><td>null</td><td>null</td><td>null</td><td>null</td><td>null</td><td>null</td><td>null</td><td>null</td><td>null</td><td>null</td><td>null</td><td>null</td><td>null</td><td>Non-Veteran</td><td>null</td></tr><tr><td>12694</td><td>null</td><td>335987</td><td>6</td><td>R Dravid</td><td>null</td><td>Right-hand bat</td><td>Right-arm offbreak</td><td>India</td><td>Captain</td><td>Royal Challengers Bangalore</td><td>Kolkata Knight Riders</td><td>2008</td><td>null</td><td>35</td><td>null</td><td>null</td><td>null</td><td>R Dravid</td><td>SC Ganguly</td><td>MV Boucher</td><td>WP Saha</td><td>Veteran</td><td>17</td></tr></tbody></table></div>"
      ]
     },
     "metadata": {
      "application/vnd.databricks.v1+output": {
       "addedWidgets": {},
       "aggData": [],
       "aggError": "",
       "aggOverflow": false,
       "aggSchema": [],
       "aggSeriesLimitReached": false,
       "aggType": "",
       "arguments": {},
       "columnCustomDisplayInfos": {},
       "data": [
        [
         -1,
         "-1",
         -1,
         -1,
         "N/A",
         null,
         null,
         null,
         null,
         null,
         null,
         null,
         null,
         null,
         null,
         null,
         null,
         null,
         null,
         null,
         null,
         null,
         "Non-Veteran",
         null
        ],
        [
         12694,
         null,
         335987,
         6,
         "R Dravid",
         null,
         "Right-hand bat",
         "Right-arm offbreak",
         "India",
         "Captain",
         "Royal Challengers Bangalore",
         "Kolkata Knight Riders",
         2008,
         null,
         35,
         null,
         null,
         null,
         "R Dravid",
         "SC Ganguly",
         "MV Boucher",
         "WP Saha",
         "Veteran",
         17
        ]
       ],
       "datasetInfos": [],
       "dbfsResultPath": null,
       "isJsonSchema": true,
       "metadata": {},
       "overflow": false,
       "plotOptions": {
        "customPlotOptions": {},
        "displayType": "table",
        "pivotAggregation": null,
        "pivotColumns": null,
        "xColumns": null,
        "yColumns": null
       },
       "removedWidgets": [],
       "schema": [
        {
         "metadata": "{}",
         "name": "player_match_sk",
         "type": "\"integer\""
        },
        {
         "metadata": "{}",
         "name": "playermatch_key",
         "type": "\"decimal(10,0)\""
        },
        {
         "metadata": "{}",
         "name": "match_id",
         "type": "\"integer\""
        },
        {
         "metadata": "{}",
         "name": "player_id",
         "type": "\"integer\""
        },
        {
         "metadata": "{}",
         "name": "player_name",
         "type": "\"string\""
        },
        {
         "metadata": "{}",
         "name": "dob",
         "type": "\"date\""
        },
        {
         "metadata": "{}",
         "name": "batting_hand",
         "type": "\"string\""
        },
        {
         "metadata": "{}",
         "name": "bowling_skill",
         "type": "\"string\""
        },
        {
         "metadata": "{}",
         "name": "country_name",
         "type": "\"string\""
        },
        {
         "metadata": "{}",
         "name": "role_desc",
         "type": "\"string\""
        },
        {
         "metadata": "{}",
         "name": "player_team",
         "type": "\"string\""
        },
        {
         "metadata": "{}",
         "name": "opposit_team",
         "type": "\"string\""
        },
        {
         "metadata": "{}",
         "name": "season_year",
         "type": "\"integer\""
        },
        {
         "metadata": "{}",
         "name": "is_manofthematch",
         "type": "\"boolean\""
        },
        {
         "metadata": "{}",
         "name": "age_as_on_match",
         "type": "\"integer\""
        },
        {
         "metadata": "{}",
         "name": "isplayers_team_won",
         "type": "\"boolean\""
        },
        {
         "metadata": "{}",
         "name": "batting_status",
         "type": "\"string\""
        },
        {
         "metadata": "{}",
         "name": "bowling_status",
         "type": "\"string\""
        },
        {
         "metadata": "{}",
         "name": "player_captain",
         "type": "\"string\""
        },
        {
         "metadata": "{}",
         "name": "opposit_captain",
         "type": "\"string\""
        },
        {
         "metadata": "{}",
         "name": "player_keeper",
         "type": "\"string\""
        },
        {
         "metadata": "{}",
         "name": "opposit_keeper",
         "type": "\"string\""
        },
        {
         "metadata": "{}",
         "name": "veteran_status",
         "type": "\"string\""
        },
        {
         "metadata": "{}",
         "name": "years_since_debut",
         "type": "\"integer\""
        }
       ],
       "type": "table"
      }
     },
     "output_type": "display_data"
    }
   ],
   "source": [
    "# Adding a 'veteran_status' column based on player age\n",
    "player_match_df = player_match_df.withColumn(\n",
    "    \"veteran_status\",\n",
    "    when(col(\"age_as_on_match\") >= 35, \"Veteran\").otherwise(\"Non-Veteran\")\n",
    ")\n",
    "\n",
    "# Dynamic column to calculate years since debut\n",
    "player_match_df = player_match_df.withColumn(\n",
    "    \"years_since_debut\",\n",
    "    (year(current_date()) - col(\"season_year\"))\n",
    ")\n",
    "\n",
    "# displaying the enriched DataFrame\n",
    "player_match_df.limit(2).display()\n"
   ]
  },
  {
   "cell_type": "code",
   "execution_count": 0,
   "metadata": {
    "application/vnd.databricks.v1+cell": {
     "cellMetadata": {
      "byteLimit": 2048000,
      "rowLimit": 10000
     },
     "inputWidgets": {},
     "nuid": "3a412807-5f6a-4870-8c6e-31e66d6cf68c",
     "showTitle": false,
     "tableResultSettingsMap": {},
     "title": ""
    }
   },
   "outputs": [],
   "source": [
    "\n",
    "ball_by_ball_df.createOrReplaceTempView(\"ball_by_ball\")\n",
    "match_df.createOrReplaceTempView(\"match\")\n",
    "player_df.createOrReplaceTempView(\"player\")\n",
    "player_match_df.createOrReplaceTempView(\"player_match\")\n",
    "team_df.createOrReplaceTempView(\"team\")"
   ]
  },
  {
   "cell_type": "code",
   "execution_count": 0,
   "metadata": {
    "application/vnd.databricks.v1+cell": {
     "cellMetadata": {
      "byteLimit": 2048000,
      "rowLimit": 10000
     },
     "inputWidgets": {},
     "nuid": "193b5a2a-2f67-4a1d-8dac-f775e1cabf9e",
     "showTitle": false,
     "tableResultSettingsMap": {},
     "title": ""
    }
   },
   "outputs": [
    {
     "output_type": "display_data",
     "data": {
      "text/html": [
       "<style scoped>\n",
       "  .table-result-container {\n",
       "    max-height: 300px;\n",
       "    overflow: auto;\n",
       "  }\n",
       "  table, th, td {\n",
       "    border: 1px solid black;\n",
       "    border-collapse: collapse;\n",
       "  }\n",
       "  th, td {\n",
       "    padding: 5px;\n",
       "  }\n",
       "  th {\n",
       "    text-align: left;\n",
       "  }\n",
       "</style><div class='table-result-container'><table class='table-result'><thead style='background-color: white'><tr><th>player_name</th><th>season_year</th><th>total_runs</th></tr></thead><tbody><tr><td>se marsh</td><td>2008</td><td>616</td></tr><tr><td>g gambhir</td><td>2008</td><td>534</td></tr><tr><td>st jayasuriya</td><td>2008</td><td>514</td></tr></tbody></table></div>"
      ]
     },
     "metadata": {
      "application/vnd.databricks.v1+output": {
       "addedWidgets": {},
       "aggData": [],
       "aggError": "",
       "aggOverflow": false,
       "aggSchema": [],
       "aggSeriesLimitReached": false,
       "aggType": "",
       "arguments": {},
       "columnCustomDisplayInfos": {},
       "data": [
        [
         "se marsh",
         2008,
         616
        ],
        [
         "g gambhir",
         2008,
         534
        ],
        [
         "st jayasuriya",
         2008,
         514
        ]
       ],
       "datasetInfos": [],
       "dbfsResultPath": null,
       "isJsonSchema": true,
       "metadata": {},
       "overflow": false,
       "plotOptions": {
        "customPlotOptions": {},
        "displayType": "table",
        "pivotAggregation": null,
        "pivotColumns": null,
        "xColumns": null,
        "yColumns": null
       },
       "removedWidgets": [],
       "schema": [
        {
         "metadata": "{}",
         "name": "player_name",
         "type": "\"string\""
        },
        {
         "metadata": "{}",
         "name": "season_year",
         "type": "\"integer\""
        },
        {
         "metadata": "{}",
         "name": "total_runs",
         "type": "\"long\""
        }
       ],
       "type": "table"
      }
     },
     "output_type": "display_data"
    }
   ],
   "source": [
    "top_scoring_batsmen_per_season = spark.sql(\"\"\"\n",
    "SELECT \n",
    "p.player_name,\n",
    "m.season_year,\n",
    "SUM(b.runs_scored) AS total_runs \n",
    "FROM ball_by_ball b\n",
    "JOIN match m ON b.match_id = m.match_id   \n",
    "JOIN player_match pm ON m.match_id = pm.match_id AND b.striker = pm.player_id     \n",
    "JOIN player p ON p.player_id = pm.player_id\n",
    "GROUP BY p.player_name, m.season_year\n",
    "ORDER BY m.season_year, total_runs DESC\n",
    "\"\"\")\n",
    "\n",
    "top_scoring_batsmen_per_season.limit(3).display()"
   ]
  },
  {
   "cell_type": "code",
   "execution_count": 0,
   "metadata": {
    "application/vnd.databricks.v1+cell": {
     "cellMetadata": {
      "byteLimit": 2048000,
      "rowLimit": 10000
     },
     "inputWidgets": {},
     "nuid": "66c82174-2588-4337-9303-7065cea214d6",
     "showTitle": false,
     "tableResultSettingsMap": {},
     "title": ""
    }
   },
   "outputs": [
    {
     "output_type": "display_data",
     "data": {
      "text/html": [
       "<style scoped>\n",
       "  .table-result-container {\n",
       "    max-height: 300px;\n",
       "    overflow: auto;\n",
       "  }\n",
       "  table, th, td {\n",
       "    border: 1px solid black;\n",
       "    border-collapse: collapse;\n",
       "  }\n",
       "  th, td {\n",
       "    padding: 5px;\n",
       "  }\n",
       "  th {\n",
       "    text-align: left;\n",
       "  }\n",
       "</style><div class='table-result-container'><table class='table-result'><thead style='background-color: white'><tr><th>player_name</th><th>avg_runs_per_ball</th><th>total_wickets</th></tr></thead><tbody><tr><td>sm harwood</td><td>0.3157894736842105</td><td>0</td></tr><tr><td>a zampa</td><td>0.42857142857142855</td><td>0</td></tr><tr><td>gr napier</td><td>0.5</td><td>0</td></tr><tr><td>aj finch</td><td>0.5</td><td>0</td></tr><tr><td>ankit soni</td><td>0.5</td><td>0</td></tr></tbody></table></div>"
      ]
     },
     "metadata": {
      "application/vnd.databricks.v1+output": {
       "addedWidgets": {},
       "aggData": [],
       "aggError": "",
       "aggOverflow": false,
       "aggSchema": [],
       "aggSeriesLimitReached": false,
       "aggType": "",
       "arguments": {},
       "columnCustomDisplayInfos": {},
       "data": [
        [
         "sm harwood",
         0.3157894736842105,
         0
        ],
        [
         "a zampa",
         0.42857142857142855,
         0
        ],
        [
         "gr napier",
         0.5,
         0
        ],
        [
         "aj finch",
         0.5,
         0
        ],
        [
         "ankit soni",
         0.5,
         0
        ]
       ],
       "datasetInfos": [],
       "dbfsResultPath": null,
       "isJsonSchema": true,
       "metadata": {},
       "overflow": false,
       "plotOptions": {
        "customPlotOptions": {},
        "displayType": "table",
        "pivotAggregation": null,
        "pivotColumns": null,
        "xColumns": null,
        "yColumns": null
       },
       "removedWidgets": [],
       "schema": [
        {
         "metadata": "{}",
         "name": "player_name",
         "type": "\"string\""
        },
        {
         "metadata": "{}",
         "name": "avg_runs_per_ball",
         "type": "\"double\""
        },
        {
         "metadata": "{}",
         "name": "total_wickets",
         "type": "\"long\""
        }
       ],
       "type": "table"
      }
     },
     "output_type": "display_data"
    }
   ],
   "source": [
    "\n",
    "economical_bowlers_powerplay = spark.sql(\"\"\"\n",
    "SELECT \n",
    "p.player_name, \n",
    "AVG(b.runs_scored) AS avg_runs_per_ball, \n",
    "COUNT(b.bowler_wicket) AS total_wickets\n",
    "FROM ball_by_ball b\n",
    "JOIN player_match pm ON b.match_id = pm.match_id AND b.bowler = pm.player_id\n",
    "JOIN player p ON pm.player_id = p.player_id\n",
    "WHERE b.over_id <= 6\n",
    "GROUP BY p.player_name\n",
    "HAVING COUNT(*) >= 1\n",
    "ORDER BY avg_runs_per_ball, total_wickets DESC\n",
    "\"\"\")\n",
    "economical_bowlers_powerplay.limit(5).display()"
   ]
  },
  {
   "cell_type": "code",
   "execution_count": 0,
   "metadata": {
    "application/vnd.databricks.v1+cell": {
     "cellMetadata": {
      "byteLimit": 2048000,
      "rowLimit": 10000
     },
     "inputWidgets": {},
     "nuid": "86e27f44-5d94-4611-a346-758762f7afe8",
     "showTitle": false,
     "tableResultSettingsMap": {},
     "title": ""
    }
   },
   "outputs": [
    {
     "output_type": "stream",
     "name": "stdout",
     "output_type": "stream",
     "text": [
      "+--------+--------------------+---------+--------------------+-------------+\n|match_id|         toss_winner|toss_name|        match_winner|match_outcome|\n+--------+--------------------+---------+--------------------+-------------+\n|  335987|Royal Challengers...|    field|Kolkata Knight Ri...|         Lost|\n|  335988| Chennai Super Kings|      bat| Chennai Super Kings|          Won|\n|  335989|    Rajasthan Royals|      bat|    Delhi Daredevils|         Lost|\n|  335990|      Mumbai Indians|      bat|Royal Challengers...|         Lost|\n|  335991|     Deccan Chargers|      bat|Kolkata Knight Ri...|         Lost|\n|  335992|     Kings XI Punjab|      bat|    Rajasthan Royals|         Lost|\n|  335993|     Deccan Chargers|      bat|    Delhi Daredevils|         Lost|\n|  335994|      Mumbai Indians|    field| Chennai Super Kings|         Lost|\n|  335995|    Rajasthan Royals|    field|    Rajasthan Royals|          Won|\n|  335996|      Mumbai Indians|    field|     Kings XI Punjab|         Lost|\n|  335997|    Rajasthan Royals|    field|    Rajasthan Royals|          Won|\n|  335998|Kolkata Knight Ri...|      bat| Chennai Super Kings|         Lost|\n|  335999|     Deccan Chargers|    field|     Deccan Chargers|          Won|\n|  336000|    Delhi Daredevils|      bat|     Kings XI Punjab|         Lost|\n|  336001| Chennai Super Kings|      bat| Chennai Super Kings|          Won|\n|  336002|Kolkata Knight Ri...|      bat|      Mumbai Indians|         Lost|\n|  336003|Royal Challengers...|    field|    Delhi Daredevils|         Lost|\n|  336004|     Kings XI Punjab|    field|     Kings XI Punjab|          Won|\n|  336005|    Rajasthan Royals|      bat|    Rajasthan Royals|          Won|\n|  336006| Chennai Super Kings|      bat|    Delhi Daredevils|         Lost|\n+--------+--------------------+---------+--------------------+-------------+\nonly showing top 20 rows\n\n"
     ]
    }
   ],
   "source": [
    "\n",
    "toss_impact_individual_matches = spark.sql(\"\"\"\n",
    "SELECT m.match_id, m.toss_winner, m.toss_name, m.match_winner,\n",
    "       CASE WHEN m.toss_winner = m.match_winner THEN 'Won' ELSE 'Lost' END AS match_outcome\n",
    "FROM match m\n",
    "WHERE m.toss_name IS NOT NULL\n",
    "ORDER BY m.match_id\n",
    "\"\"\")\n",
    "toss_impact_individual_matches.show()"
   ]
  },
  {
   "cell_type": "code",
   "execution_count": 0,
   "metadata": {
    "application/vnd.databricks.v1+cell": {
     "cellMetadata": {},
     "inputWidgets": {},
     "nuid": "6ebe11e0-67a1-4b24-b8bf-b672a4b6b922",
     "showTitle": false,
     "tableResultSettingsMap": {},
     "title": ""
    }
   },
   "outputs": [],
   "source": []
  }
 ],
 "metadata": {
  "application/vnd.databricks.v1+notebook": {
   "computePreferences": null,
   "dashboards": [],
   "environmentMetadata": {
    "base_environment": "",
    "environment_version": "1"
   },
   "inputWidgetPreferences": null,
   "language": "python",
   "notebookMetadata": {
    "pythonIndentUnit": 4
   },
   "notebookName": "IPL SPARK PROJECT 1",
   "widgets": {}
  }
 },
 "nbformat": 4,
 "nbformat_minor": 0
}